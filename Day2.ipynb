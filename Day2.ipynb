{
 "cells": [
  {
   "cell_type": "markdown",
   "metadata": {},
   "source": [
    "# Python 데이터 분석 2주차"
   ]
  },
  {
   "cell_type": "markdown",
   "metadata": {},
   "source": [
    "## 조건문\n",
    "\n",
    "* if (조건식):\n",
    "        수행문장 1\n",
    "   else:\n",
    "        수행문장 2\n",
    "        \n",
    "* 들여쓰기 : Python에서, 구문을 작성하거나 함수작성할 때 , 문장의 종속관계를 띄어쓰기 또는 들여쓰기로 표현한다."
   ]
  },
  {
   "cell_type": "code",
   "execution_count": 6,
   "metadata": {},
   "outputs": [
    {
     "name": "stdout",
     "output_type": "stream",
     "text": [
      "a는 b보다 큽니다\n",
      "종속문장1\n",
      "프로그램 종료 \n"
     ]
    }
   ],
   "source": [
    "a = 100\n",
    "b= 20\n",
    "\n",
    "if (a>b):\n",
    "    print(\"a는 b보다 큽니다\") # 들여쓰기\n",
    "    print(\"종속문장1\")\n",
    "else: \n",
    "    print(\"b는 a보다 큽니다\")\n",
    "    \n",
    "print(\"프로그램 종료 \")    # 종속되어 있지 않음"
   ]
  },
  {
   "cell_type": "code",
   "execution_count": 9,
   "metadata": {},
   "outputs": [
    {
     "name": "stdout",
     "output_type": "stream",
     "text": [
      "첫번째 숫자를 입력하시오 : 15\n",
      "홀수입니다.\n"
     ]
    }
   ],
   "source": [
    "num1 = int(input(\"첫번째 숫자를 입력하시오 : \"))\n",
    "\n",
    "if (num1%2 ==0):\n",
    "    print(\"짝수입니다.\")\n",
    "else:\n",
    "    print(\"홀수입니다.\")"
   ]
  },
  {
   "cell_type": "code",
   "execution_count": 14,
   "metadata": {},
   "outputs": [
    {
     "name": "stdout",
     "output_type": "stream",
     "text": [
      "숫자를 입력하시오 : 10\n",
      "양수입니다.\n"
     ]
    }
   ],
   "source": [
    "num2 = float(input(\"숫자를 입력하시오 : \"))\n",
    "if (num2>0):\n",
    "    print(\"양수입니다.\")\n",
    "elif (num2 ==0):\n",
    "    print(\"0\")\n",
    "else :\n",
    "    print(\"음수입니다.\")"
   ]
  },
  {
   "cell_type": "code",
   "execution_count": 29,
   "metadata": {},
   "outputs": [
    {
     "name": "stdout",
     "output_type": "stream",
     "text": [
      "점수를 입력하시오 : 80\n",
      "B\n"
     ]
    }
   ],
   "source": [
    "# 성적처리 프로그램\n",
    "score = int(input(\"점수를 입력하시오 : \"))\n",
    "\n",
    "if (score >=95):\n",
    "    print(\"A+\")\n",
    "elif (score >=90): # pass넣어지면 멈춤\n",
    "    print(\"A\")\n",
    "    pass\n",
    "elif (score >=80):\n",
    "    print(\"B\")\n",
    "else:\n",
    "\n",
    "    print(\"F\")"
   ]
  },
  {
   "cell_type": "markdown",
   "metadata": {},
   "source": [
    "## 실습예제\n",
    "\n",
    "**1. 정수를 입력받아서 3의 배수인지 아닌지 판단하는 프로그램**\n",
    "\n",
    "**2. 키와 몸무게를 입력받아, BMI 수치 계산\n",
    "  (몸무게)kg / (키)^2 m\n",
    "  \n",
    "  \n",
    "  수치에 따라 BMI > 30 : 고도비만\n",
    "  \n",
    "                 BMI >= 25 : 경도비만\n",
    "                 \n",
    "                 BMI >= 23 : 과체중\n",
    "                 \n",
    "                 BMI >= 18.5 : 정상\n",
    "                 \n",
    "                 BMI ~ 저체중"
   ]
  },
  {
   "cell_type": "code",
   "execution_count": 33,
   "metadata": {},
   "outputs": [
    {
     "name": "stdout",
     "output_type": "stream",
     "text": [
      "숫자를 입력하시오 : 6\n",
      "3의 배수입니다\n"
     ]
    }
   ],
   "source": [
    "num = int(input(\"숫자를 입력하시오 : \"))\n",
    "if (num%3==0):\n",
    "    print(\"3의 배수입니다\")\n",
    "else:\n",
    "    print(\"3의 배수가 아닙니다\")"
   ]
  },
  {
   "cell_type": "code",
   "execution_count": 3,
   "metadata": {},
   "outputs": [
    {
     "name": "stdout",
     "output_type": "stream",
     "text": [
      "몸무게 입력: 63\n",
      "키 입력: 165.5\n",
      "23.000885351539324\n",
      "과체중\n"
     ]
    }
   ],
   "source": [
    "weight = float(input(\"몸무게 입력: \"))\n",
    "height = float(input(\"키 입력: \"))\n",
    "result=float(weight/(height*0.01)**2)\n",
    "print(result)\n",
    "if(result > 30):\n",
    "    print(\"고도비만\")\n",
    "elif(result >= 25):\n",
    "    print(\"경도비만\")\n",
    "elif(result >=23):\n",
    "    print(\"과체중\")\n",
    "elif(result >=18.5):\n",
    "    print(\"정상\")\n",
    "else:\n",
    "    print(\"저체중\")"
   ]
  },
  {
   "cell_type": "markdown",
   "metadata": {},
   "source": [
    "# Loop"
   ]
  },
  {
   "cell_type": "code",
   "execution_count": 52,
   "metadata": {},
   "outputs": [
    {
     "name": "stdout",
     "output_type": "stream",
     "text": [
      "0\n",
      "종료\n",
      "1\n",
      "종료\n",
      "2\n",
      "종료\n",
      "3\n",
      "종료\n",
      "4\n",
      "종료\n",
      "5\n",
      "종료\n",
      "6\n",
      "종료\n",
      "7\n",
      "종료\n",
      "8\n",
      "종료\n",
      "9\n",
      "종료\n"
     ]
    }
   ],
   "source": [
    "for i in range(0,10):\n",
    "    print(i)  # 숫자 한개 작은수까지 나온다\n",
    "    print(\"종료\") "
   ]
  },
  {
   "cell_type": "code",
   "execution_count": 56,
   "metadata": {},
   "outputs": [
    {
     "name": "stdout",
     "output_type": "stream",
     "text": [
      "100\n",
      "200\n",
      "pathon\n"
     ]
    }
   ],
   "source": [
    "list1 = [100, 200, 'pathon']\n",
    "for i in list1:\n",
    "    print(i)"
   ]
  },
  {
   "cell_type": "markdown",
   "metadata": {},
   "source": [
    "* 1부터 100까지 차례로 합을 계산"
   ]
  },
  {
   "cell_type": "code",
   "execution_count": 60,
   "metadata": {},
   "outputs": [
    {
     "name": "stdout",
     "output_type": "stream",
     "text": [
      "5050\n"
     ]
    }
   ],
   "source": [
    "sum = 0\n",
    "for i in range(1, 100+1):\n",
    "    sum = sum+i\n",
    "    \n",
    "print(sum)"
   ]
  },
  {
   "cell_type": "code",
   "execution_count": 64,
   "metadata": {
    "scrolled": true
   },
   "outputs": [
    {
     "name": "stdout",
     "output_type": "stream",
     "text": [
      "정수를 입력하시오 : 50\n",
      "0\n"
     ]
    }
   ],
   "source": [
    "num1 = int(input(\"정수를 입력하시오 : \"))\n",
    "sum = 0\n",
    "for i in range(i, num1+1):\n",
    "    sum = sum + i\n",
    "    \n",
    "print(sum)"
   ]
  },
  {
   "cell_type": "code",
   "execution_count": 72,
   "metadata": {},
   "outputs": [
    {
     "name": "stdout",
     "output_type": "stream",
     "text": [
      "숫자를 입력하시오10\n"
     ]
    },
    {
     "data": {
      "text/plain": [
       "55.0"
      ]
     },
     "execution_count": 72,
     "metadata": {},
     "output_type": "execute_result"
    }
   ],
   "source": [
    "num=int(input(\"숫자를 입력하시오\"))\n",
    "result=int(num*(num+1))/2    # 컴파일러 속도 줄일 수 있음\n",
    "result"
   ]
  },
  {
   "cell_type": "code",
   "execution_count": 77,
   "metadata": {},
   "outputs": [
    {
     "name": "stdout",
     "output_type": "stream",
     "text": [
      "점수:  100 학점 : A\n",
      "점수:  85 학점 : B\n",
      "점수:  79 학점 : C\n",
      "점수:  99 학점 : A\n",
      "점수:  40 학점 : F\n",
      "점수:  55 학점 : F\n",
      "점수:  10 학점 : F\n"
     ]
    }
   ],
   "source": [
    "list2 = [100, 85, 79, 99, 40, 55, 10]\n",
    "\n",
    "for i in list2:\n",
    "    if(i >=90):\n",
    "        print(\"점수: \",i,\"학점 : A\")\n",
    "    elif(i >=80):\n",
    "        print(\"점수: \",i,\"학점 : B\")\n",
    "    elif(i >=70):\n",
    "        print(\"점수: \",i,\"학점 : C\")\n",
    "    else:\n",
    "        print(\"점수: \",i,\"학점 : F\") # 이중 구문"
   ]
  },
  {
   "cell_type": "markdown",
   "metadata": {},
   "source": [
    "## Function"
   ]
  },
  {
   "cell_type": "code",
   "execution_count": 5,
   "metadata": {},
   "outputs": [],
   "source": [
    "def sum_function(num1): # input\n",
    "    sum = (num1+1)*num1/2\n",
    "    return sum          #output"
   ]
  },
  {
   "cell_type": "code",
   "execution_count": 6,
   "metadata": {},
   "outputs": [
    {
     "data": {
      "text/plain": [
       "5050.0"
      ]
     },
     "execution_count": 6,
     "metadata": {},
     "output_type": "execute_result"
    }
   ],
   "source": [
    "sum_function(100)"
   ]
  },
  {
   "cell_type": "code",
   "execution_count": 84,
   "metadata": {},
   "outputs": [
    {
     "data": {
      "text/plain": [
       "'2019년08월02일'"
      ]
     },
     "execution_count": 84,
     "metadata": {},
     "output_type": "execute_result"
    }
   ],
   "source": [
    "\"2019년08월02일\""
   ]
  },
  {
   "cell_type": "code",
   "execution_count": 85,
   "metadata": {},
   "outputs": [],
   "source": [
    "def date_function(data):\n",
    "    result=data[:4] + \"-\" + data[5:7] + \"-\" + data[8:10]\n",
    "    return result"
   ]
  },
  {
   "cell_type": "code",
   "execution_count": 87,
   "metadata": {},
   "outputs": [
    {
     "data": {
      "text/plain": [
       "'2019-08-02'"
      ]
     },
     "execution_count": 87,
     "metadata": {},
     "output_type": "execute_result"
    }
   ],
   "source": [
    "date_function(\"2019년08월02일\")"
   ]
  },
  {
   "cell_type": "markdown",
   "metadata": {},
   "source": [
    "#### Library\n",
    "NUMPY \n",
    "-> 수학/과학/통계 연산\n",
    "-> 고차원 data/vector/matrix\n",
    "\n",
    "pandas -> 정형 data를 불러옴(RDBMS)\n",
    "\n",
    "matplot(조금 더 좋은 library)-->Seaborn -> 정형데이터나 표형태 데이터를 쉽게 시각화 처리해줌\n",
    "\n",
    "numpy를 바탕으로 Scipy를 만듬(통계 전용 라이브러리)->sklearn(기계학습),keras 등등...\n",
    "\n",
    "이 라이브러리 가지고 데이터 분석을 함"
   ]
  },
  {
   "cell_type": "markdown",
   "metadata": {},
   "source": [
    "###### ***zip(*iterable)은 동일한 개수로 이루어진 자료형을 묶어 주는 역할"
   ]
  },
  {
   "cell_type": "code",
   "execution_count": 90,
   "metadata": {},
   "outputs": [],
   "source": [
    "import numpy as np"
   ]
  },
  {
   "cell_type": "code",
   "execution_count": 91,
   "metadata": {},
   "outputs": [],
   "source": [
    "list1 = [10,20,30,40,50,60,70]"
   ]
  },
  {
   "cell_type": "code",
   "execution_count": 97,
   "metadata": {},
   "outputs": [
    {
     "data": {
      "text/plain": [
       "40.0"
      ]
     },
     "execution_count": 97,
     "metadata": {},
     "output_type": "execute_result"
    }
   ],
   "source": [
    "sum = 0\n",
    "for i in list1:\n",
    "    sum= sum + i\n",
    "    \n",
    "sum/len(list1)"
   ]
  },
  {
   "cell_type": "code",
   "execution_count": 109,
   "metadata": {},
   "outputs": [
    {
     "data": {
      "text/plain": [
       "120.0"
      ]
     },
     "execution_count": 109,
     "metadata": {},
     "output_type": "execute_result"
    }
   ],
   "source": [
    "def mean_function(data):\n",
    "    sum = 0\n",
    "for i in list1:\n",
    "    sum= sum + i\n",
    "    \n",
    "sum/len(list1)"
   ]
  },
  {
   "cell_type": "code",
   "execution_count": 110,
   "metadata": {},
   "outputs": [],
   "source": [
    " mean_function(list1)"
   ]
  },
  {
   "cell_type": "code",
   "execution_count": 111,
   "metadata": {},
   "outputs": [],
   "source": [
    "# 배열\n",
    "arr1 = np.array(list1)"
   ]
  },
  {
   "cell_type": "code",
   "execution_count": 112,
   "metadata": {},
   "outputs": [
    {
     "data": {
      "text/plain": [
       "40.0"
      ]
     },
     "execution_count": 112,
     "metadata": {},
     "output_type": "execute_result"
    }
   ],
   "source": [
    "arr1.mean()"
   ]
  },
  {
   "cell_type": "code",
   "execution_count": 113,
   "metadata": {},
   "outputs": [
    {
     "data": {
      "text/plain": [
       "280"
      ]
     },
     "execution_count": 113,
     "metadata": {},
     "output_type": "execute_result"
    }
   ],
   "source": [
    "arr1.sum()"
   ]
  },
  {
   "cell_type": "code",
   "execution_count": 114,
   "metadata": {},
   "outputs": [
    {
     "data": {
      "text/plain": [
       "20.0"
      ]
     },
     "execution_count": 114,
     "metadata": {},
     "output_type": "execute_result"
    }
   ],
   "source": [
    "arr1.std()"
   ]
  },
  {
   "cell_type": "code",
   "execution_count": 116,
   "metadata": {},
   "outputs": [
    {
     "data": {
      "text/plain": [
       "70"
      ]
     },
     "execution_count": 116,
     "metadata": {},
     "output_type": "execute_result"
    }
   ],
   "source": [
    "arr1.max()"
   ]
  },
  {
   "cell_type": "code",
   "execution_count": 120,
   "metadata": {},
   "outputs": [],
   "source": [
    "import numpy as np\n",
    "import pandas as pd"
   ]
  },
  {
   "cell_type": "code",
   "execution_count": 126,
   "metadata": {
    "scrolled": true
   },
   "outputs": [],
   "source": [
    "data1 = pd.read_csv(\"data/member_data_1.csv\")"
   ]
  },
  {
   "cell_type": "code",
   "execution_count": 130,
   "metadata": {},
   "outputs": [
    {
     "data": {
      "text/plain": [
       "0        5733884\n",
       "1         673414\n",
       "2        2500746\n",
       "3         655919\n",
       "4        2984534\n",
       "          ...   \n",
       "13034      61740\n",
       "13035      15507\n",
       "13036      36374\n",
       "13037      15890\n",
       "13038       7466\n",
       "Name: 총구매금액, Length: 13039, dtype: int64"
      ]
     },
     "execution_count": 130,
     "metadata": {},
     "output_type": "execute_result"
    }
   ],
   "source": [
    "data1[\"총구매금액\"] # seriese 형태의 데이터"
   ]
  },
  {
   "cell_type": "code",
   "execution_count": 133,
   "metadata": {},
   "outputs": [
    {
     "data": {
      "text/html": [
       "<div>\n",
       "<style scoped>\n",
       "    .dataframe tbody tr th:only-of-type {\n",
       "        vertical-align: middle;\n",
       "    }\n",
       "\n",
       "    .dataframe tbody tr th {\n",
       "        vertical-align: top;\n",
       "    }\n",
       "\n",
       "    .dataframe thead th {\n",
       "        text-align: right;\n",
       "    }\n",
       "</style>\n",
       "<table border=\"1\" class=\"dataframe\">\n",
       "  <thead>\n",
       "    <tr style=\"text-align: right;\">\n",
       "      <th></th>\n",
       "      <th>총구매금액</th>\n",
       "    </tr>\n",
       "  </thead>\n",
       "  <tbody>\n",
       "    <tr>\n",
       "      <td>0</td>\n",
       "      <td>5733884</td>\n",
       "    </tr>\n",
       "    <tr>\n",
       "      <td>1</td>\n",
       "      <td>673414</td>\n",
       "    </tr>\n",
       "    <tr>\n",
       "      <td>2</td>\n",
       "      <td>2500746</td>\n",
       "    </tr>\n",
       "    <tr>\n",
       "      <td>3</td>\n",
       "      <td>655919</td>\n",
       "    </tr>\n",
       "    <tr>\n",
       "      <td>4</td>\n",
       "      <td>2984534</td>\n",
       "    </tr>\n",
       "    <tr>\n",
       "      <td>...</td>\n",
       "      <td>...</td>\n",
       "    </tr>\n",
       "    <tr>\n",
       "      <td>13034</td>\n",
       "      <td>61740</td>\n",
       "    </tr>\n",
       "    <tr>\n",
       "      <td>13035</td>\n",
       "      <td>15507</td>\n",
       "    </tr>\n",
       "    <tr>\n",
       "      <td>13036</td>\n",
       "      <td>36374</td>\n",
       "    </tr>\n",
       "    <tr>\n",
       "      <td>13037</td>\n",
       "      <td>15890</td>\n",
       "    </tr>\n",
       "    <tr>\n",
       "      <td>13038</td>\n",
       "      <td>7466</td>\n",
       "    </tr>\n",
       "  </tbody>\n",
       "</table>\n",
       "<p>13039 rows × 1 columns</p>\n",
       "</div>"
      ],
      "text/plain": [
       "         총구매금액\n",
       "0      5733884\n",
       "1       673414\n",
       "2      2500746\n",
       "3       655919\n",
       "4      2984534\n",
       "...        ...\n",
       "13034    61740\n",
       "13035    15507\n",
       "13036    36374\n",
       "13037    15890\n",
       "13038     7466\n",
       "\n",
       "[13039 rows x 1 columns]"
      ]
     },
     "execution_count": 133,
     "metadata": {},
     "output_type": "execute_result"
    }
   ],
   "source": [
    "data1[[\"총구매금액\"]] # DataFrame # column을 여러개 보고 싶을때는 dataframe으로 해줘야함"
   ]
  },
  {
   "cell_type": "code",
   "execution_count": 134,
   "metadata": {},
   "outputs": [
    {
     "data": {
      "text/html": [
       "<div>\n",
       "<style scoped>\n",
       "    .dataframe tbody tr th:only-of-type {\n",
       "        vertical-align: middle;\n",
       "    }\n",
       "\n",
       "    .dataframe tbody tr th {\n",
       "        vertical-align: top;\n",
       "    }\n",
       "\n",
       "    .dataframe thead th {\n",
       "        text-align: right;\n",
       "    }\n",
       "</style>\n",
       "<table border=\"1\" class=\"dataframe\">\n",
       "  <thead>\n",
       "    <tr style=\"text-align: right;\">\n",
       "      <th></th>\n",
       "      <th>연령</th>\n",
       "      <th>성별</th>\n",
       "    </tr>\n",
       "  </thead>\n",
       "  <tbody>\n",
       "    <tr>\n",
       "      <td>0</td>\n",
       "      <td>45.0</td>\n",
       "      <td>여</td>\n",
       "    </tr>\n",
       "    <tr>\n",
       "      <td>1</td>\n",
       "      <td>36.0</td>\n",
       "      <td>여</td>\n",
       "    </tr>\n",
       "    <tr>\n",
       "      <td>2</td>\n",
       "      <td>36.0</td>\n",
       "      <td>여</td>\n",
       "    </tr>\n",
       "    <tr>\n",
       "      <td>3</td>\n",
       "      <td>34.0</td>\n",
       "      <td>여</td>\n",
       "    </tr>\n",
       "    <tr>\n",
       "      <td>4</td>\n",
       "      <td>51.0</td>\n",
       "      <td>여</td>\n",
       "    </tr>\n",
       "    <tr>\n",
       "      <td>...</td>\n",
       "      <td>...</td>\n",
       "      <td>...</td>\n",
       "    </tr>\n",
       "    <tr>\n",
       "      <td>13034</td>\n",
       "      <td>46.0</td>\n",
       "      <td>여</td>\n",
       "    </tr>\n",
       "    <tr>\n",
       "      <td>13035</td>\n",
       "      <td>82.0</td>\n",
       "      <td>여</td>\n",
       "    </tr>\n",
       "    <tr>\n",
       "      <td>13036</td>\n",
       "      <td>55.0</td>\n",
       "      <td>여</td>\n",
       "    </tr>\n",
       "    <tr>\n",
       "      <td>13037</td>\n",
       "      <td>41.0</td>\n",
       "      <td>남</td>\n",
       "    </tr>\n",
       "    <tr>\n",
       "      <td>13038</td>\n",
       "      <td>69.0</td>\n",
       "      <td>여</td>\n",
       "    </tr>\n",
       "  </tbody>\n",
       "</table>\n",
       "<p>13039 rows × 2 columns</p>\n",
       "</div>"
      ],
      "text/plain": [
       "         연령 성별\n",
       "0      45.0  여\n",
       "1      36.0  여\n",
       "2      36.0  여\n",
       "3      34.0  여\n",
       "4      51.0  여\n",
       "...     ... ..\n",
       "13034  46.0  여\n",
       "13035  82.0  여\n",
       "13036  55.0  여\n",
       "13037  41.0  남\n",
       "13038  69.0  여\n",
       "\n",
       "[13039 rows x 2 columns]"
      ]
     },
     "execution_count": 134,
     "metadata": {},
     "output_type": "execute_result"
    }
   ],
   "source": [
    "data1[[\"연령\",\"성별\"]]"
   ]
  },
  {
   "cell_type": "markdown",
   "metadata": {},
   "source": [
    "## pandas \n",
    "-> 정형데이터 RDBMS(relational data vase managemanet)\n",
    "관계형data(=정형 데이터) (ex 동물, 포유류, 양서류)\n",
    "\n",
    "pandas 1. series-- index-value (데이터의 순서가 메겨져 있음) 데이터와 순서만 있음\n",
    "     \n",
    "       2. dataframe-- index-column-value\n",
    "       \n",
    "                정밀  나이  등등...(column)        \n",
    "       1(index)\n",
    "       2\n",
    "       3"
   ]
  },
  {
   "cell_type": "code",
   "execution_count": 135,
   "metadata": {},
   "outputs": [
    {
     "data": {
      "text/plain": [
       "RangeIndex(start=0, stop=13039, step=1)"
      ]
     },
     "execution_count": 135,
     "metadata": {},
     "output_type": "execute_result"
    }
   ],
   "source": [
    "data1.index"
   ]
  },
  {
   "cell_type": "code",
   "execution_count": 143,
   "metadata": {},
   "outputs": [
    {
     "data": {
      "text/plain": [
       "Index(['회원번호', '조합원상태', '주소-구', '주소-동', '성별', '연령', '연령대', '총 방문횟수', '총구매금액',\n",
       "       '총구매수량', '1회방문시구매금액', '주당방문횟수', '배송서비스신청여부', '모바일알람여부', 'VIP_member'],\n",
       "      dtype='object')"
      ]
     },
     "execution_count": 143,
     "metadata": {},
     "output_type": "execute_result"
    }
   ],
   "source": [
    "data1.columns # 보통 많이 이용하여 데아터를 확인함"
   ]
  },
  {
   "cell_type": "code",
   "execution_count": 144,
   "metadata": {},
   "outputs": [
    {
     "data": {
      "text/plain": [
       "array([[272369856, '정상회원', '수지구', ..., '미신청', '수신', 'normal'],\n",
       "       [1506656256, '정상회원', '수지구', ..., '미신청', '.', 'normal'],\n",
       "       [1023108864, '정상회원', '수지구', ..., '미신청', '수신', 'normal'],\n",
       "       ...,\n",
       "       [96714304, '정상회원', '분당구', ..., '미신청', '.', 'normal'],\n",
       "       [1547170880, '정상회원', '기타', ..., '미신청', '.', 'normal'],\n",
       "       [435603200, '정상회원', '기타', ..., '미신청', '.', 'normal']], dtype=object)"
      ]
     },
     "execution_count": 144,
     "metadata": {},
     "output_type": "execute_result"
    }
   ],
   "source": [
    "data1.values"
   ]
  },
  {
   "cell_type": "code",
   "execution_count": 147,
   "metadata": {},
   "outputs": [
    {
     "data": {
      "text/plain": [
       "(13039, 15)"
      ]
     },
     "execution_count": 147,
     "metadata": {},
     "output_type": "execute_result"
    }
   ],
   "source": [
    "# shape : (row 수, columns 수)\n",
    "data1.shape # 앞에꺼는 row (즉 index의 개수), 뒤에꺼는 columns 개수"
   ]
  },
  {
   "cell_type": "code",
   "execution_count": 153,
   "metadata": {},
   "outputs": [
    {
     "data": {
      "text/plain": [
       "997892.6216734413"
      ]
     },
     "execution_count": 153,
     "metadata": {},
     "output_type": "execute_result"
    }
   ],
   "source": [
    "data1[\"총구매금액\"].mean() # 총구매금액의 평균이 계산됨"
   ]
  },
  {
   "cell_type": "code",
   "execution_count": 155,
   "metadata": {},
   "outputs": [
    {
     "data": {
      "text/plain": [
       "13011521894"
      ]
     },
     "execution_count": 155,
     "metadata": {},
     "output_type": "execute_result"
    }
   ],
   "source": [
    "data1[\"총구매금액\"].sum()"
   ]
  },
  {
   "cell_type": "code",
   "execution_count": 156,
   "metadata": {},
   "outputs": [
    {
     "data": {
      "text/plain": [
       "58191752"
      ]
     },
     "execution_count": 156,
     "metadata": {},
     "output_type": "execute_result"
    }
   ],
   "source": [
    "data1[\"총구매금액\"].max()"
   ]
  },
  {
   "cell_type": "code",
   "execution_count": 158,
   "metadata": {},
   "outputs": [
    {
     "data": {
      "text/plain": [
       "count    1.303900e+04\n",
       "mean     9.978926e+05\n",
       "std      2.003041e+06\n",
       "min     -8.615000e+03\n",
       "25%      7.715100e+04\n",
       "50%      2.854390e+05\n",
       "75%      1.048372e+06\n",
       "max      5.819175e+07\n",
       "Name: 총구매금액, dtype: float64"
      ]
     },
     "execution_count": 158,
     "metadata": {},
     "output_type": "execute_result"
    }
   ],
   "source": [
    "data1[\"총구매금액\"].describe() # 더 발전된 모습 10^5 -> e+05라고 표현된 것"
   ]
  },
  {
   "cell_type": "code",
   "execution_count": 161,
   "metadata": {},
   "outputs": [
    {
     "data": {
      "text/html": [
       "<div>\n",
       "<style scoped>\n",
       "    .dataframe tbody tr th:only-of-type {\n",
       "        vertical-align: middle;\n",
       "    }\n",
       "\n",
       "    .dataframe tbody tr th {\n",
       "        vertical-align: top;\n",
       "    }\n",
       "\n",
       "    .dataframe thead th {\n",
       "        text-align: right;\n",
       "    }\n",
       "</style>\n",
       "<table border=\"1\" class=\"dataframe\">\n",
       "  <thead>\n",
       "    <tr style=\"text-align: right;\">\n",
       "      <th></th>\n",
       "      <th>총구매금액</th>\n",
       "    </tr>\n",
       "  </thead>\n",
       "  <tbody>\n",
       "    <tr>\n",
       "      <td>count</td>\n",
       "      <td>1.303900e+04</td>\n",
       "    </tr>\n",
       "    <tr>\n",
       "      <td>mean</td>\n",
       "      <td>9.978926e+05</td>\n",
       "    </tr>\n",
       "    <tr>\n",
       "      <td>std</td>\n",
       "      <td>2.003041e+06</td>\n",
       "    </tr>\n",
       "    <tr>\n",
       "      <td>min</td>\n",
       "      <td>-8.615000e+03</td>\n",
       "    </tr>\n",
       "    <tr>\n",
       "      <td>25%</td>\n",
       "      <td>7.715100e+04</td>\n",
       "    </tr>\n",
       "    <tr>\n",
       "      <td>50%</td>\n",
       "      <td>2.854390e+05</td>\n",
       "    </tr>\n",
       "    <tr>\n",
       "      <td>75%</td>\n",
       "      <td>1.048372e+06</td>\n",
       "    </tr>\n",
       "    <tr>\n",
       "      <td>max</td>\n",
       "      <td>5.819175e+07</td>\n",
       "    </tr>\n",
       "  </tbody>\n",
       "</table>\n",
       "</div>"
      ],
      "text/plain": [
       "              총구매금액\n",
       "count  1.303900e+04\n",
       "mean   9.978926e+05\n",
       "std    2.003041e+06\n",
       "min   -8.615000e+03\n",
       "25%    7.715100e+04\n",
       "50%    2.854390e+05\n",
       "75%    1.048372e+06\n",
       "max    5.819175e+07"
      ]
     },
     "execution_count": 161,
     "metadata": {},
     "output_type": "execute_result"
    }
   ],
   "source": [
    "data1[[\"총구매금액\"]].describe() #눕혀서 보고 싶으면 .T 를 같이 적어줌 data1[[\"총구매금액\"]].describe().T"
   ]
  },
  {
   "cell_type": "code",
   "execution_count": 164,
   "metadata": {},
   "outputs": [
    {
     "data": {
      "text/plain": [
       "array(['40대', '30대이하', '50대', '60대', '70대이상', nan], dtype=object)"
      ]
     },
     "execution_count": 164,
     "metadata": {},
     "output_type": "execute_result"
    }
   ],
   "source": [
    "# 연령대 별로 총구매금액 파악\n",
    "data1[\"연령대\"].unique() # nan는 mising 데이터 =자리가 비어있다"
   ]
  },
  {
   "cell_type": "code",
   "execution_count": 166,
   "metadata": {},
   "outputs": [
    {
     "data": {
      "text/plain": [
       "40대      5061\n",
       "50대      2869\n",
       "30대이하    2486\n",
       "60대      1642\n",
       "70대이상     979\n",
       "Name: 연령대, dtype: int64"
      ]
     },
     "execution_count": 166,
     "metadata": {},
     "output_type": "execute_result"
    }
   ],
   "source": [
    "data1[\"연령대\"].value_counts()"
   ]
  },
  {
   "cell_type": "code",
   "execution_count": 170,
   "metadata": {},
   "outputs": [],
   "source": [
    "p1=pd.pivot_table(data=data1, index=\"연령대\", values=\"총구매금액\")"
   ]
  },
  {
   "cell_type": "code",
   "execution_count": 172,
   "metadata": {},
   "outputs": [],
   "source": [
    "p1.to_excel(\"result.xlsx\")"
   ]
  },
  {
   "cell_type": "markdown",
   "metadata": {},
   "source": [
    "## 1/16 여기까지함"
   ]
  },
  {
   "cell_type": "markdown",
   "metadata": {},
   "source": [
    "## pandas vs excel\n",
    "\n",
    "pandas-> python.(programing) 속도가 빠르다(프로그래밍이기 때문에)\n",
    "                             data volume의 양이 더 많음 120GB\n",
    "                             Python언어를 이용하여 DB와 연결 후 분석이 가능함 \n",
    "\n",
    "excel -> 유저가 입력을 하면 프로그래밍 언어로 바꿈, 그 언어를 출력함 비교적 느림. 100MB~정도\n",
    "          "
   ]
  },
  {
   "cell_type": "code",
   "execution_count": 175,
   "metadata": {},
   "outputs": [
    {
     "name": "stdout",
     "output_type": "stream",
     "text": [
      "<class 'pandas.core.frame.DataFrame'>\n",
      "RangeIndex: 13039 entries, 0 to 13038\n",
      "Data columns (total 15 columns):\n",
      "회원번호          13039 non-null int64\n",
      "조합원상태         13039 non-null object\n",
      "주소-구          13039 non-null object\n",
      "주소-동          13039 non-null object\n",
      "성별            13037 non-null object\n",
      "연령            13037 non-null float64\n",
      "연령대           13037 non-null object\n",
      "총 방문횟수        13039 non-null int64\n",
      "총구매금액         13039 non-null int64\n",
      "총구매수량         13039 non-null float64\n",
      "1회방문시구매금액     13039 non-null float64\n",
      "주당방문횟수        13039 non-null float64\n",
      "배송서비스신청여부     13039 non-null object\n",
      "모바일알람여부       13039 non-null object\n",
      "VIP_member    13039 non-null object\n",
      "dtypes: float64(4), int64(3), object(8)\n",
      "memory usage: 1.5+ MB\n"
     ]
    }
   ],
   "source": [
    "data1.info() # 데이터의 요약정리"
   ]
  },
  {
   "cell_type": "code",
   "execution_count": 179,
   "metadata": {},
   "outputs": [
    {
     "data": {
      "text/html": [
       "<div>\n",
       "<style scoped>\n",
       "    .dataframe tbody tr th:only-of-type {\n",
       "        vertical-align: middle;\n",
       "    }\n",
       "\n",
       "    .dataframe tbody tr th {\n",
       "        vertical-align: top;\n",
       "    }\n",
       "\n",
       "    .dataframe thead th {\n",
       "        text-align: right;\n",
       "    }\n",
       "</style>\n",
       "<table border=\"1\" class=\"dataframe\">\n",
       "  <thead>\n",
       "    <tr style=\"text-align: right;\">\n",
       "      <th></th>\n",
       "      <th>회원번호</th>\n",
       "      <th>조합원상태</th>\n",
       "      <th>주소-구</th>\n",
       "      <th>주소-동</th>\n",
       "      <th>성별</th>\n",
       "      <th>연령</th>\n",
       "      <th>연령대</th>\n",
       "      <th>총 방문횟수</th>\n",
       "      <th>총구매금액</th>\n",
       "      <th>총구매수량</th>\n",
       "      <th>1회방문시구매금액</th>\n",
       "      <th>주당방문횟수</th>\n",
       "      <th>배송서비스신청여부</th>\n",
       "      <th>모바일알람여부</th>\n",
       "      <th>VIP_member</th>\n",
       "    </tr>\n",
       "  </thead>\n",
       "  <tbody>\n",
       "    <tr>\n",
       "      <td>0</td>\n",
       "      <td>False</td>\n",
       "      <td>False</td>\n",
       "      <td>False</td>\n",
       "      <td>False</td>\n",
       "      <td>False</td>\n",
       "      <td>False</td>\n",
       "      <td>False</td>\n",
       "      <td>False</td>\n",
       "      <td>False</td>\n",
       "      <td>False</td>\n",
       "      <td>False</td>\n",
       "      <td>False</td>\n",
       "      <td>False</td>\n",
       "      <td>False</td>\n",
       "      <td>False</td>\n",
       "    </tr>\n",
       "    <tr>\n",
       "      <td>1</td>\n",
       "      <td>False</td>\n",
       "      <td>False</td>\n",
       "      <td>False</td>\n",
       "      <td>False</td>\n",
       "      <td>False</td>\n",
       "      <td>False</td>\n",
       "      <td>False</td>\n",
       "      <td>False</td>\n",
       "      <td>False</td>\n",
       "      <td>False</td>\n",
       "      <td>False</td>\n",
       "      <td>False</td>\n",
       "      <td>False</td>\n",
       "      <td>False</td>\n",
       "      <td>False</td>\n",
       "    </tr>\n",
       "    <tr>\n",
       "      <td>2</td>\n",
       "      <td>False</td>\n",
       "      <td>False</td>\n",
       "      <td>False</td>\n",
       "      <td>False</td>\n",
       "      <td>False</td>\n",
       "      <td>False</td>\n",
       "      <td>False</td>\n",
       "      <td>False</td>\n",
       "      <td>False</td>\n",
       "      <td>False</td>\n",
       "      <td>False</td>\n",
       "      <td>False</td>\n",
       "      <td>False</td>\n",
       "      <td>False</td>\n",
       "      <td>False</td>\n",
       "    </tr>\n",
       "    <tr>\n",
       "      <td>3</td>\n",
       "      <td>False</td>\n",
       "      <td>False</td>\n",
       "      <td>False</td>\n",
       "      <td>False</td>\n",
       "      <td>False</td>\n",
       "      <td>False</td>\n",
       "      <td>False</td>\n",
       "      <td>False</td>\n",
       "      <td>False</td>\n",
       "      <td>False</td>\n",
       "      <td>False</td>\n",
       "      <td>False</td>\n",
       "      <td>False</td>\n",
       "      <td>False</td>\n",
       "      <td>False</td>\n",
       "    </tr>\n",
       "    <tr>\n",
       "      <td>4</td>\n",
       "      <td>False</td>\n",
       "      <td>False</td>\n",
       "      <td>False</td>\n",
       "      <td>False</td>\n",
       "      <td>False</td>\n",
       "      <td>False</td>\n",
       "      <td>False</td>\n",
       "      <td>False</td>\n",
       "      <td>False</td>\n",
       "      <td>False</td>\n",
       "      <td>False</td>\n",
       "      <td>False</td>\n",
       "      <td>False</td>\n",
       "      <td>False</td>\n",
       "      <td>False</td>\n",
       "    </tr>\n",
       "    <tr>\n",
       "      <td>...</td>\n",
       "      <td>...</td>\n",
       "      <td>...</td>\n",
       "      <td>...</td>\n",
       "      <td>...</td>\n",
       "      <td>...</td>\n",
       "      <td>...</td>\n",
       "      <td>...</td>\n",
       "      <td>...</td>\n",
       "      <td>...</td>\n",
       "      <td>...</td>\n",
       "      <td>...</td>\n",
       "      <td>...</td>\n",
       "      <td>...</td>\n",
       "      <td>...</td>\n",
       "      <td>...</td>\n",
       "    </tr>\n",
       "    <tr>\n",
       "      <td>13034</td>\n",
       "      <td>False</td>\n",
       "      <td>False</td>\n",
       "      <td>False</td>\n",
       "      <td>False</td>\n",
       "      <td>False</td>\n",
       "      <td>False</td>\n",
       "      <td>False</td>\n",
       "      <td>False</td>\n",
       "      <td>False</td>\n",
       "      <td>False</td>\n",
       "      <td>False</td>\n",
       "      <td>False</td>\n",
       "      <td>False</td>\n",
       "      <td>False</td>\n",
       "      <td>False</td>\n",
       "    </tr>\n",
       "    <tr>\n",
       "      <td>13035</td>\n",
       "      <td>False</td>\n",
       "      <td>False</td>\n",
       "      <td>False</td>\n",
       "      <td>False</td>\n",
       "      <td>False</td>\n",
       "      <td>False</td>\n",
       "      <td>False</td>\n",
       "      <td>False</td>\n",
       "      <td>False</td>\n",
       "      <td>False</td>\n",
       "      <td>False</td>\n",
       "      <td>False</td>\n",
       "      <td>False</td>\n",
       "      <td>False</td>\n",
       "      <td>False</td>\n",
       "    </tr>\n",
       "    <tr>\n",
       "      <td>13036</td>\n",
       "      <td>False</td>\n",
       "      <td>False</td>\n",
       "      <td>False</td>\n",
       "      <td>False</td>\n",
       "      <td>False</td>\n",
       "      <td>False</td>\n",
       "      <td>False</td>\n",
       "      <td>False</td>\n",
       "      <td>False</td>\n",
       "      <td>False</td>\n",
       "      <td>False</td>\n",
       "      <td>False</td>\n",
       "      <td>False</td>\n",
       "      <td>False</td>\n",
       "      <td>False</td>\n",
       "    </tr>\n",
       "    <tr>\n",
       "      <td>13037</td>\n",
       "      <td>False</td>\n",
       "      <td>False</td>\n",
       "      <td>False</td>\n",
       "      <td>False</td>\n",
       "      <td>False</td>\n",
       "      <td>False</td>\n",
       "      <td>False</td>\n",
       "      <td>False</td>\n",
       "      <td>False</td>\n",
       "      <td>False</td>\n",
       "      <td>False</td>\n",
       "      <td>False</td>\n",
       "      <td>False</td>\n",
       "      <td>False</td>\n",
       "      <td>False</td>\n",
       "    </tr>\n",
       "    <tr>\n",
       "      <td>13038</td>\n",
       "      <td>False</td>\n",
       "      <td>False</td>\n",
       "      <td>False</td>\n",
       "      <td>False</td>\n",
       "      <td>False</td>\n",
       "      <td>False</td>\n",
       "      <td>False</td>\n",
       "      <td>False</td>\n",
       "      <td>False</td>\n",
       "      <td>False</td>\n",
       "      <td>False</td>\n",
       "      <td>False</td>\n",
       "      <td>False</td>\n",
       "      <td>False</td>\n",
       "      <td>False</td>\n",
       "    </tr>\n",
       "  </tbody>\n",
       "</table>\n",
       "<p>13039 rows × 15 columns</p>\n",
       "</div>"
      ],
      "text/plain": [
       "        회원번호  조합원상태   주소-구   주소-동     성별     연령    연령대  총 방문횟수  총구매금액  총구매수량  \\\n",
       "0      False  False  False  False  False  False  False   False  False  False   \n",
       "1      False  False  False  False  False  False  False   False  False  False   \n",
       "2      False  False  False  False  False  False  False   False  False  False   \n",
       "3      False  False  False  False  False  False  False   False  False  False   \n",
       "4      False  False  False  False  False  False  False   False  False  False   \n",
       "...      ...    ...    ...    ...    ...    ...    ...     ...    ...    ...   \n",
       "13034  False  False  False  False  False  False  False   False  False  False   \n",
       "13035  False  False  False  False  False  False  False   False  False  False   \n",
       "13036  False  False  False  False  False  False  False   False  False  False   \n",
       "13037  False  False  False  False  False  False  False   False  False  False   \n",
       "13038  False  False  False  False  False  False  False   False  False  False   \n",
       "\n",
       "       1회방문시구매금액  주당방문횟수  배송서비스신청여부  모바일알람여부  VIP_member  \n",
       "0          False   False      False    False       False  \n",
       "1          False   False      False    False       False  \n",
       "2          False   False      False    False       False  \n",
       "3          False   False      False    False       False  \n",
       "4          False   False      False    False       False  \n",
       "...          ...     ...        ...      ...         ...  \n",
       "13034      False   False      False    False       False  \n",
       "13035      False   False      False    False       False  \n",
       "13036      False   False      False    False       False  \n",
       "13037      False   False      False    False       False  \n",
       "13038      False   False      False    False       False  \n",
       "\n",
       "[13039 rows x 15 columns]"
      ]
     },
     "execution_count": 179,
     "metadata": {},
     "output_type": "execute_result"
    }
   ],
   "source": [
    "data1.isnull() # 데이터가 비어있는지 안비어있늦지 알려주는 것 .sum() 추가할 수도 있음"
   ]
  },
  {
   "cell_type": "markdown",
   "metadata": {},
   "source": [
    "### sorting"
   ]
  },
  {
   "cell_type": "code",
   "execution_count": 185,
   "metadata": {},
   "outputs": [
    {
     "data": {
      "text/html": [
       "<div>\n",
       "<style scoped>\n",
       "    .dataframe tbody tr th:only-of-type {\n",
       "        vertical-align: middle;\n",
       "    }\n",
       "\n",
       "    .dataframe tbody tr th {\n",
       "        vertical-align: top;\n",
       "    }\n",
       "\n",
       "    .dataframe thead th {\n",
       "        text-align: right;\n",
       "    }\n",
       "</style>\n",
       "<table border=\"1\" class=\"dataframe\">\n",
       "  <thead>\n",
       "    <tr style=\"text-align: right;\">\n",
       "      <th></th>\n",
       "      <th>회원번호</th>\n",
       "      <th>조합원상태</th>\n",
       "      <th>주소-구</th>\n",
       "      <th>주소-동</th>\n",
       "      <th>성별</th>\n",
       "      <th>연령</th>\n",
       "      <th>연령대</th>\n",
       "      <th>총 방문횟수</th>\n",
       "      <th>총구매금액</th>\n",
       "      <th>총구매수량</th>\n",
       "      <th>1회방문시구매금액</th>\n",
       "      <th>주당방문횟수</th>\n",
       "      <th>배송서비스신청여부</th>\n",
       "      <th>모바일알람여부</th>\n",
       "      <th>VIP_member</th>\n",
       "    </tr>\n",
       "  </thead>\n",
       "  <tbody>\n",
       "    <tr>\n",
       "      <td>315</td>\n",
       "      <td>1670400000</td>\n",
       "      <td>탈퇴</td>\n",
       "      <td>기타</td>\n",
       "      <td>비조합원</td>\n",
       "      <td>남</td>\n",
       "      <td>36.0</td>\n",
       "      <td>30대이하</td>\n",
       "      <td>295</td>\n",
       "      <td>58191752</td>\n",
       "      <td>6146.88</td>\n",
       "      <td>197260.177510</td>\n",
       "      <td>6.704545</td>\n",
       "      <td>미신청</td>\n",
       "      <td>수신</td>\n",
       "      <td>VVIP</td>\n",
       "    </tr>\n",
       "    <tr>\n",
       "      <td>615</td>\n",
       "      <td>436681536</td>\n",
       "      <td>정상회원</td>\n",
       "      <td>수지구</td>\n",
       "      <td>풍덕천동</td>\n",
       "      <td>여</td>\n",
       "      <td>51.0</td>\n",
       "      <td>50대</td>\n",
       "      <td>207</td>\n",
       "      <td>37346461</td>\n",
       "      <td>2802.65</td>\n",
       "      <td>180417.688340</td>\n",
       "      <td>4.704545</td>\n",
       "      <td>미신청</td>\n",
       "      <td>수신</td>\n",
       "      <td>VVIP</td>\n",
       "    </tr>\n",
       "    <tr>\n",
       "      <td>774</td>\n",
       "      <td>381879424</td>\n",
       "      <td>정상회원</td>\n",
       "      <td>수지구</td>\n",
       "      <td>풍덕천동</td>\n",
       "      <td>여</td>\n",
       "      <td>52.0</td>\n",
       "      <td>50대</td>\n",
       "      <td>201</td>\n",
       "      <td>32030148</td>\n",
       "      <td>2031.10</td>\n",
       "      <td>159353.970010</td>\n",
       "      <td>4.568182</td>\n",
       "      <td>미신청</td>\n",
       "      <td>수신</td>\n",
       "      <td>VVIP</td>\n",
       "    </tr>\n",
       "    <tr>\n",
       "      <td>1143</td>\n",
       "      <td>193003584</td>\n",
       "      <td>정상회원</td>\n",
       "      <td>수지구</td>\n",
       "      <td>성복동</td>\n",
       "      <td>여</td>\n",
       "      <td>64.0</td>\n",
       "      <td>60대</td>\n",
       "      <td>128</td>\n",
       "      <td>24986439</td>\n",
       "      <td>1545.10</td>\n",
       "      <td>195206.556170</td>\n",
       "      <td>2.909091</td>\n",
       "      <td>미신청</td>\n",
       "      <td>.</td>\n",
       "      <td>VVIP</td>\n",
       "    </tr>\n",
       "    <tr>\n",
       "      <td>340</td>\n",
       "      <td>444617792</td>\n",
       "      <td>정상회원</td>\n",
       "      <td>수지구</td>\n",
       "      <td>상현동</td>\n",
       "      <td>여</td>\n",
       "      <td>59.0</td>\n",
       "      <td>50대</td>\n",
       "      <td>122</td>\n",
       "      <td>23882798</td>\n",
       "      <td>2169.95</td>\n",
       "      <td>195760.642810</td>\n",
       "      <td>2.772727</td>\n",
       "      <td>미신청</td>\n",
       "      <td>.</td>\n",
       "      <td>VVIP</td>\n",
       "    </tr>\n",
       "    <tr>\n",
       "      <td>...</td>\n",
       "      <td>...</td>\n",
       "      <td>...</td>\n",
       "      <td>...</td>\n",
       "      <td>...</td>\n",
       "      <td>...</td>\n",
       "      <td>...</td>\n",
       "      <td>...</td>\n",
       "      <td>...</td>\n",
       "      <td>...</td>\n",
       "      <td>...</td>\n",
       "      <td>...</td>\n",
       "      <td>...</td>\n",
       "      <td>...</td>\n",
       "      <td>...</td>\n",
       "      <td>...</td>\n",
       "    </tr>\n",
       "    <tr>\n",
       "      <td>12531</td>\n",
       "      <td>808701888</td>\n",
       "      <td>정상회원</td>\n",
       "      <td>수원 영통구</td>\n",
       "      <td>기타</td>\n",
       "      <td>여</td>\n",
       "      <td>51.0</td>\n",
       "      <td>50대</td>\n",
       "      <td>1</td>\n",
       "      <td>0</td>\n",
       "      <td>0.00</td>\n",
       "      <td>0.000000</td>\n",
       "      <td>0.022727</td>\n",
       "      <td>미신청</td>\n",
       "      <td>.</td>\n",
       "      <td>normal</td>\n",
       "    </tr>\n",
       "    <tr>\n",
       "      <td>9319</td>\n",
       "      <td>1286779648</td>\n",
       "      <td>정상회원</td>\n",
       "      <td>기타</td>\n",
       "      <td>기타</td>\n",
       "      <td>여</td>\n",
       "      <td>49.0</td>\n",
       "      <td>40대</td>\n",
       "      <td>1</td>\n",
       "      <td>0</td>\n",
       "      <td>0.00</td>\n",
       "      <td>0.000000</td>\n",
       "      <td>0.022727</td>\n",
       "      <td>미신청</td>\n",
       "      <td>.</td>\n",
       "      <td>normal</td>\n",
       "    </tr>\n",
       "    <tr>\n",
       "      <td>12646</td>\n",
       "      <td>524733888</td>\n",
       "      <td>정상회원</td>\n",
       "      <td>서울 강남구</td>\n",
       "      <td>기타</td>\n",
       "      <td>남</td>\n",
       "      <td>77.0</td>\n",
       "      <td>70대이상</td>\n",
       "      <td>1</td>\n",
       "      <td>0</td>\n",
       "      <td>0.00</td>\n",
       "      <td>0.000000</td>\n",
       "      <td>0.022727</td>\n",
       "      <td>미신청</td>\n",
       "      <td>.</td>\n",
       "      <td>normal</td>\n",
       "    </tr>\n",
       "    <tr>\n",
       "      <td>12390</td>\n",
       "      <td>1516619264</td>\n",
       "      <td>정상회원</td>\n",
       "      <td>기타</td>\n",
       "      <td>기타</td>\n",
       "      <td>여</td>\n",
       "      <td>40.0</td>\n",
       "      <td>40대</td>\n",
       "      <td>1</td>\n",
       "      <td>0</td>\n",
       "      <td>0.00</td>\n",
       "      <td>0.000000</td>\n",
       "      <td>0.022727</td>\n",
       "      <td>미신청</td>\n",
       "      <td>.</td>\n",
       "      <td>normal</td>\n",
       "    </tr>\n",
       "    <tr>\n",
       "      <td>1768</td>\n",
       "      <td>853283008</td>\n",
       "      <td>정상회원</td>\n",
       "      <td>수지구</td>\n",
       "      <td>신봉동</td>\n",
       "      <td>여</td>\n",
       "      <td>42.0</td>\n",
       "      <td>40대</td>\n",
       "      <td>1</td>\n",
       "      <td>-8615</td>\n",
       "      <td>-1.00</td>\n",
       "      <td>-8614.864865</td>\n",
       "      <td>0.022727</td>\n",
       "      <td>미신청</td>\n",
       "      <td>.</td>\n",
       "      <td>normal</td>\n",
       "    </tr>\n",
       "  </tbody>\n",
       "</table>\n",
       "<p>13039 rows × 15 columns</p>\n",
       "</div>"
      ],
      "text/plain": [
       "             회원번호 조합원상태    주소-구  주소-동 성별    연령    연령대  총 방문횟수     총구매금액  \\\n",
       "315    1670400000    탈퇴      기타  비조합원  남  36.0  30대이하     295  58191752   \n",
       "615     436681536  정상회원     수지구  풍덕천동  여  51.0    50대     207  37346461   \n",
       "774     381879424  정상회원     수지구  풍덕천동  여  52.0    50대     201  32030148   \n",
       "1143    193003584  정상회원     수지구   성복동  여  64.0    60대     128  24986439   \n",
       "340     444617792  정상회원     수지구   상현동  여  59.0    50대     122  23882798   \n",
       "...           ...   ...     ...   ... ..   ...    ...     ...       ...   \n",
       "12531   808701888  정상회원  수원 영통구    기타  여  51.0    50대       1         0   \n",
       "9319   1286779648  정상회원      기타    기타  여  49.0    40대       1         0   \n",
       "12646   524733888  정상회원  서울 강남구    기타  남  77.0  70대이상       1         0   \n",
       "12390  1516619264  정상회원      기타    기타  여  40.0    40대       1         0   \n",
       "1768    853283008  정상회원     수지구   신봉동  여  42.0    40대       1     -8615   \n",
       "\n",
       "         총구매수량      1회방문시구매금액    주당방문횟수 배송서비스신청여부 모바일알람여부 VIP_member  \n",
       "315    6146.88  197260.177510  6.704545       미신청      수신       VVIP  \n",
       "615    2802.65  180417.688340  4.704545       미신청      수신       VVIP  \n",
       "774    2031.10  159353.970010  4.568182       미신청      수신       VVIP  \n",
       "1143   1545.10  195206.556170  2.909091       미신청       .       VVIP  \n",
       "340    2169.95  195760.642810  2.772727       미신청       .       VVIP  \n",
       "...        ...            ...       ...       ...     ...        ...  \n",
       "12531     0.00       0.000000  0.022727       미신청       .     normal  \n",
       "9319      0.00       0.000000  0.022727       미신청       .     normal  \n",
       "12646     0.00       0.000000  0.022727       미신청       .     normal  \n",
       "12390     0.00       0.000000  0.022727       미신청       .     normal  \n",
       "1768     -1.00   -8614.864865  0.022727       미신청       .     normal  \n",
       "\n",
       "[13039 rows x 15 columns]"
      ]
     },
     "execution_count": 185,
     "metadata": {},
     "output_type": "execute_result"
    }
   ],
   "source": [
    "data1.sort_values(by=\"총구매금액\", ascending = False) # 총구매금액이 높은사람 순으로 나열하겠다"
   ]
  },
  {
   "cell_type": "code",
   "execution_count": 187,
   "metadata": {},
   "outputs": [
    {
     "data": {
      "text/html": [
       "<div>\n",
       "<style scoped>\n",
       "    .dataframe tbody tr th:only-of-type {\n",
       "        vertical-align: middle;\n",
       "    }\n",
       "\n",
       "    .dataframe tbody tr th {\n",
       "        vertical-align: top;\n",
       "    }\n",
       "\n",
       "    .dataframe thead th {\n",
       "        text-align: right;\n",
       "    }\n",
       "</style>\n",
       "<table border=\"1\" class=\"dataframe\">\n",
       "  <thead>\n",
       "    <tr style=\"text-align: right;\">\n",
       "      <th></th>\n",
       "      <th>회원번호</th>\n",
       "      <th>조합원상태</th>\n",
       "      <th>주소-구</th>\n",
       "      <th>주소-동</th>\n",
       "      <th>성별</th>\n",
       "      <th>연령</th>\n",
       "      <th>연령대</th>\n",
       "      <th>총 방문횟수</th>\n",
       "      <th>총구매금액</th>\n",
       "      <th>총구매수량</th>\n",
       "      <th>1회방문시구매금액</th>\n",
       "      <th>주당방문횟수</th>\n",
       "      <th>배송서비스신청여부</th>\n",
       "      <th>모바일알람여부</th>\n",
       "      <th>VIP_member</th>\n",
       "    </tr>\n",
       "  </thead>\n",
       "  <tbody>\n",
       "    <tr>\n",
       "      <td>315</td>\n",
       "      <td>1670400000</td>\n",
       "      <td>탈퇴</td>\n",
       "      <td>기타</td>\n",
       "      <td>비조합원</td>\n",
       "      <td>남</td>\n",
       "      <td>36.0</td>\n",
       "      <td>30대이하</td>\n",
       "      <td>295</td>\n",
       "      <td>58191752</td>\n",
       "      <td>6146.88</td>\n",
       "      <td>197260.17751</td>\n",
       "      <td>6.704545</td>\n",
       "      <td>미신청</td>\n",
       "      <td>수신</td>\n",
       "      <td>VVIP</td>\n",
       "    </tr>\n",
       "    <tr>\n",
       "      <td>615</td>\n",
       "      <td>436681536</td>\n",
       "      <td>정상회원</td>\n",
       "      <td>수지구</td>\n",
       "      <td>풍덕천동</td>\n",
       "      <td>여</td>\n",
       "      <td>51.0</td>\n",
       "      <td>50대</td>\n",
       "      <td>207</td>\n",
       "      <td>37346461</td>\n",
       "      <td>2802.65</td>\n",
       "      <td>180417.68834</td>\n",
       "      <td>4.704545</td>\n",
       "      <td>미신청</td>\n",
       "      <td>수신</td>\n",
       "      <td>VVIP</td>\n",
       "    </tr>\n",
       "    <tr>\n",
       "      <td>774</td>\n",
       "      <td>381879424</td>\n",
       "      <td>정상회원</td>\n",
       "      <td>수지구</td>\n",
       "      <td>풍덕천동</td>\n",
       "      <td>여</td>\n",
       "      <td>52.0</td>\n",
       "      <td>50대</td>\n",
       "      <td>201</td>\n",
       "      <td>32030148</td>\n",
       "      <td>2031.10</td>\n",
       "      <td>159353.97001</td>\n",
       "      <td>4.568182</td>\n",
       "      <td>미신청</td>\n",
       "      <td>수신</td>\n",
       "      <td>VVIP</td>\n",
       "    </tr>\n",
       "    <tr>\n",
       "      <td>1143</td>\n",
       "      <td>193003584</td>\n",
       "      <td>정상회원</td>\n",
       "      <td>수지구</td>\n",
       "      <td>성복동</td>\n",
       "      <td>여</td>\n",
       "      <td>64.0</td>\n",
       "      <td>60대</td>\n",
       "      <td>128</td>\n",
       "      <td>24986439</td>\n",
       "      <td>1545.10</td>\n",
       "      <td>195206.55617</td>\n",
       "      <td>2.909091</td>\n",
       "      <td>미신청</td>\n",
       "      <td>.</td>\n",
       "      <td>VVIP</td>\n",
       "    </tr>\n",
       "    <tr>\n",
       "      <td>340</td>\n",
       "      <td>444617792</td>\n",
       "      <td>정상회원</td>\n",
       "      <td>수지구</td>\n",
       "      <td>상현동</td>\n",
       "      <td>여</td>\n",
       "      <td>59.0</td>\n",
       "      <td>50대</td>\n",
       "      <td>122</td>\n",
       "      <td>23882798</td>\n",
       "      <td>2169.95</td>\n",
       "      <td>195760.64281</td>\n",
       "      <td>2.772727</td>\n",
       "      <td>미신청</td>\n",
       "      <td>.</td>\n",
       "      <td>VVIP</td>\n",
       "    </tr>\n",
       "    <tr>\n",
       "      <td>1151</td>\n",
       "      <td>463331840</td>\n",
       "      <td>정상회원</td>\n",
       "      <td>수지구</td>\n",
       "      <td>성복동</td>\n",
       "      <td>여</td>\n",
       "      <td>49.0</td>\n",
       "      <td>40대</td>\n",
       "      <td>131</td>\n",
       "      <td>22374875</td>\n",
       "      <td>1920.55</td>\n",
       "      <td>170800.57596</td>\n",
       "      <td>2.977273</td>\n",
       "      <td>미신청</td>\n",
       "      <td>수신</td>\n",
       "      <td>VVIP</td>\n",
       "    </tr>\n",
       "    <tr>\n",
       "      <td>103</td>\n",
       "      <td>308569280</td>\n",
       "      <td>정상회원</td>\n",
       "      <td>수지구</td>\n",
       "      <td>풍덕천동</td>\n",
       "      <td>여</td>\n",
       "      <td>42.0</td>\n",
       "      <td>40대</td>\n",
       "      <td>214</td>\n",
       "      <td>22030788</td>\n",
       "      <td>2196.80</td>\n",
       "      <td>102947.60830</td>\n",
       "      <td>4.863636</td>\n",
       "      <td>미신청</td>\n",
       "      <td>수신</td>\n",
       "      <td>VIP</td>\n",
       "    </tr>\n",
       "    <tr>\n",
       "      <td>1167</td>\n",
       "      <td>606984384</td>\n",
       "      <td>정상회원</td>\n",
       "      <td>수지구</td>\n",
       "      <td>풍덕천동</td>\n",
       "      <td>여</td>\n",
       "      <td>51.0</td>\n",
       "      <td>50대</td>\n",
       "      <td>127</td>\n",
       "      <td>21926410</td>\n",
       "      <td>1608.75</td>\n",
       "      <td>172648.90136</td>\n",
       "      <td>2.886364</td>\n",
       "      <td>미신청</td>\n",
       "      <td>수신</td>\n",
       "      <td>VVIP</td>\n",
       "    </tr>\n",
       "    <tr>\n",
       "      <td>382</td>\n",
       "      <td>138689600</td>\n",
       "      <td>정상회원</td>\n",
       "      <td>수지구</td>\n",
       "      <td>동천동</td>\n",
       "      <td>여</td>\n",
       "      <td>41.0</td>\n",
       "      <td>40대</td>\n",
       "      <td>116</td>\n",
       "      <td>21872591</td>\n",
       "      <td>1844.20</td>\n",
       "      <td>188556.81500</td>\n",
       "      <td>2.636364</td>\n",
       "      <td>미신청</td>\n",
       "      <td>수신</td>\n",
       "      <td>VVIP</td>\n",
       "    </tr>\n",
       "    <tr>\n",
       "      <td>3002</td>\n",
       "      <td>635659584</td>\n",
       "      <td>정상회원</td>\n",
       "      <td>수지구</td>\n",
       "      <td>신봉동</td>\n",
       "      <td>여</td>\n",
       "      <td>57.0</td>\n",
       "      <td>50대</td>\n",
       "      <td>71</td>\n",
       "      <td>21854434</td>\n",
       "      <td>1267.50</td>\n",
       "      <td>307808.93288</td>\n",
       "      <td>1.613636</td>\n",
       "      <td>미신청</td>\n",
       "      <td>수신</td>\n",
       "      <td>VVIP</td>\n",
       "    </tr>\n",
       "  </tbody>\n",
       "</table>\n",
       "</div>"
      ],
      "text/plain": [
       "            회원번호 조합원상태 주소-구  주소-동 성별    연령    연령대  총 방문횟수     총구매금액    총구매수량  \\\n",
       "315   1670400000    탈퇴   기타  비조합원  남  36.0  30대이하     295  58191752  6146.88   \n",
       "615    436681536  정상회원  수지구  풍덕천동  여  51.0    50대     207  37346461  2802.65   \n",
       "774    381879424  정상회원  수지구  풍덕천동  여  52.0    50대     201  32030148  2031.10   \n",
       "1143   193003584  정상회원  수지구   성복동  여  64.0    60대     128  24986439  1545.10   \n",
       "340    444617792  정상회원  수지구   상현동  여  59.0    50대     122  23882798  2169.95   \n",
       "1151   463331840  정상회원  수지구   성복동  여  49.0    40대     131  22374875  1920.55   \n",
       "103    308569280  정상회원  수지구  풍덕천동  여  42.0    40대     214  22030788  2196.80   \n",
       "1167   606984384  정상회원  수지구  풍덕천동  여  51.0    50대     127  21926410  1608.75   \n",
       "382    138689600  정상회원  수지구   동천동  여  41.0    40대     116  21872591  1844.20   \n",
       "3002   635659584  정상회원  수지구   신봉동  여  57.0    50대      71  21854434  1267.50   \n",
       "\n",
       "         1회방문시구매금액    주당방문횟수 배송서비스신청여부 모바일알람여부 VIP_member  \n",
       "315   197260.17751  6.704545       미신청      수신       VVIP  \n",
       "615   180417.68834  4.704545       미신청      수신       VVIP  \n",
       "774   159353.97001  4.568182       미신청      수신       VVIP  \n",
       "1143  195206.55617  2.909091       미신청       .       VVIP  \n",
       "340   195760.64281  2.772727       미신청       .       VVIP  \n",
       "1151  170800.57596  2.977273       미신청      수신       VVIP  \n",
       "103   102947.60830  4.863636       미신청      수신        VIP  \n",
       "1167  172648.90136  2.886364       미신청      수신       VVIP  \n",
       "382   188556.81500  2.636364       미신청      수신       VVIP  \n",
       "3002  307808.93288  1.613636       미신청      수신       VVIP  "
      ]
     },
     "execution_count": 187,
     "metadata": {},
     "output_type": "execute_result"
    }
   ],
   "source": [
    "data1.sort_values(by=\"총구매금액\", ascending = False).head(10) # 상위 10명 추출"
   ]
  },
  {
   "cell_type": "code",
   "execution_count": 191,
   "metadata": {},
   "outputs": [
    {
     "data": {
      "text/html": [
       "<div>\n",
       "<style scoped>\n",
       "    .dataframe tbody tr th:only-of-type {\n",
       "        vertical-align: middle;\n",
       "    }\n",
       "\n",
       "    .dataframe tbody tr th {\n",
       "        vertical-align: top;\n",
       "    }\n",
       "\n",
       "    .dataframe thead th {\n",
       "        text-align: right;\n",
       "    }\n",
       "</style>\n",
       "<table border=\"1\" class=\"dataframe\">\n",
       "  <thead>\n",
       "    <tr style=\"text-align: right;\">\n",
       "      <th></th>\n",
       "      <th>회원번호</th>\n",
       "      <th>조합원상태</th>\n",
       "      <th>주소-구</th>\n",
       "      <th>주소-동</th>\n",
       "      <th>성별</th>\n",
       "      <th>연령</th>\n",
       "      <th>연령대</th>\n",
       "      <th>총 방문횟수</th>\n",
       "      <th>총구매금액</th>\n",
       "      <th>총구매수량</th>\n",
       "      <th>1회방문시구매금액</th>\n",
       "      <th>주당방문횟수</th>\n",
       "      <th>배송서비스신청여부</th>\n",
       "      <th>모바일알람여부</th>\n",
       "      <th>VIP_member</th>\n",
       "    </tr>\n",
       "  </thead>\n",
       "  <tbody>\n",
       "    <tr>\n",
       "      <td>7472</td>\n",
       "      <td>727854528</td>\n",
       "      <td>정상회원</td>\n",
       "      <td>기타</td>\n",
       "      <td>기타</td>\n",
       "      <td>남</td>\n",
       "      <td>42.0</td>\n",
       "      <td>40대</td>\n",
       "      <td>1</td>\n",
       "      <td>1004876</td>\n",
       "      <td>14.0</td>\n",
       "      <td>1.004876e+06</td>\n",
       "      <td>0.022727</td>\n",
       "      <td>미신청</td>\n",
       "      <td>.</td>\n",
       "      <td>VVIP</td>\n",
       "    </tr>\n",
       "    <tr>\n",
       "      <td>11844</td>\n",
       "      <td>137449792</td>\n",
       "      <td>정상회원</td>\n",
       "      <td>기타</td>\n",
       "      <td>기타</td>\n",
       "      <td>여</td>\n",
       "      <td>49.0</td>\n",
       "      <td>40대</td>\n",
       "      <td>1</td>\n",
       "      <td>559698</td>\n",
       "      <td>24.2</td>\n",
       "      <td>5.596982e+05</td>\n",
       "      <td>0.022727</td>\n",
       "      <td>미신청</td>\n",
       "      <td>.</td>\n",
       "      <td>VVIP</td>\n",
       "    </tr>\n",
       "    <tr>\n",
       "      <td>9219</td>\n",
       "      <td>678182400</td>\n",
       "      <td>정상회원</td>\n",
       "      <td>분당구</td>\n",
       "      <td>수내동</td>\n",
       "      <td>여</td>\n",
       "      <td>33.0</td>\n",
       "      <td>30대이하</td>\n",
       "      <td>12</td>\n",
       "      <td>6355473</td>\n",
       "      <td>52.0</td>\n",
       "      <td>5.296227e+05</td>\n",
       "      <td>0.272727</td>\n",
       "      <td>미신청</td>\n",
       "      <td>.</td>\n",
       "      <td>VVIP</td>\n",
       "    </tr>\n",
       "    <tr>\n",
       "      <td>6907</td>\n",
       "      <td>1434481984</td>\n",
       "      <td>정상회원</td>\n",
       "      <td>기타</td>\n",
       "      <td>기타</td>\n",
       "      <td>여</td>\n",
       "      <td>36.0</td>\n",
       "      <td>30대이하</td>\n",
       "      <td>1</td>\n",
       "      <td>518159</td>\n",
       "      <td>8.0</td>\n",
       "      <td>5.181592e+05</td>\n",
       "      <td>0.022727</td>\n",
       "      <td>미신청</td>\n",
       "      <td>.</td>\n",
       "      <td>VVIP</td>\n",
       "    </tr>\n",
       "    <tr>\n",
       "      <td>6773</td>\n",
       "      <td>236805184</td>\n",
       "      <td>정상회원</td>\n",
       "      <td>수지구</td>\n",
       "      <td>상현동</td>\n",
       "      <td>여</td>\n",
       "      <td>39.0</td>\n",
       "      <td>30대이하</td>\n",
       "      <td>15</td>\n",
       "      <td>7714229</td>\n",
       "      <td>235.1</td>\n",
       "      <td>5.142819e+05</td>\n",
       "      <td>0.340909</td>\n",
       "      <td>미신청</td>\n",
       "      <td>.</td>\n",
       "      <td>VVIP</td>\n",
       "    </tr>\n",
       "    <tr>\n",
       "      <td>10641</td>\n",
       "      <td>1506504064</td>\n",
       "      <td>정상회원</td>\n",
       "      <td>기타</td>\n",
       "      <td>기타</td>\n",
       "      <td>여</td>\n",
       "      <td>40.0</td>\n",
       "      <td>40대</td>\n",
       "      <td>1</td>\n",
       "      <td>513063</td>\n",
       "      <td>8.0</td>\n",
       "      <td>5.130631e+05</td>\n",
       "      <td>0.022727</td>\n",
       "      <td>미신청</td>\n",
       "      <td>.</td>\n",
       "      <td>VVIP</td>\n",
       "    </tr>\n",
       "    <tr>\n",
       "      <td>7552</td>\n",
       "      <td>893858880</td>\n",
       "      <td>정상회원</td>\n",
       "      <td>분당구</td>\n",
       "      <td>궁내동</td>\n",
       "      <td>여</td>\n",
       "      <td>38.0</td>\n",
       "      <td>30대이하</td>\n",
       "      <td>1</td>\n",
       "      <td>506535</td>\n",
       "      <td>3.0</td>\n",
       "      <td>5.065349e+05</td>\n",
       "      <td>0.022727</td>\n",
       "      <td>미신청</td>\n",
       "      <td>.</td>\n",
       "      <td>VVIP</td>\n",
       "    </tr>\n",
       "    <tr>\n",
       "      <td>11236</td>\n",
       "      <td>336338752</td>\n",
       "      <td>정상회원</td>\n",
       "      <td>분당구</td>\n",
       "      <td>금곡동</td>\n",
       "      <td>여</td>\n",
       "      <td>68.0</td>\n",
       "      <td>60대</td>\n",
       "      <td>2</td>\n",
       "      <td>1007556</td>\n",
       "      <td>5.0</td>\n",
       "      <td>5.037782e+05</td>\n",
       "      <td>0.045455</td>\n",
       "      <td>미신청</td>\n",
       "      <td>.</td>\n",
       "      <td>VVIP</td>\n",
       "    </tr>\n",
       "    <tr>\n",
       "      <td>8148</td>\n",
       "      <td>1250095808</td>\n",
       "      <td>정상회원</td>\n",
       "      <td>수지구</td>\n",
       "      <td>풍덕천동</td>\n",
       "      <td>여</td>\n",
       "      <td>49.0</td>\n",
       "      <td>40대</td>\n",
       "      <td>1</td>\n",
       "      <td>484117</td>\n",
       "      <td>5.0</td>\n",
       "      <td>4.841171e+05</td>\n",
       "      <td>0.022727</td>\n",
       "      <td>미신청</td>\n",
       "      <td>수신</td>\n",
       "      <td>VVIP</td>\n",
       "    </tr>\n",
       "    <tr>\n",
       "      <td>11559</td>\n",
       "      <td>346184832</td>\n",
       "      <td>정상회원</td>\n",
       "      <td>분당구</td>\n",
       "      <td>판교동</td>\n",
       "      <td>여</td>\n",
       "      <td>75.0</td>\n",
       "      <td>70대이상</td>\n",
       "      <td>1</td>\n",
       "      <td>474105</td>\n",
       "      <td>29.0</td>\n",
       "      <td>4.741047e+05</td>\n",
       "      <td>0.022727</td>\n",
       "      <td>미신청</td>\n",
       "      <td>.</td>\n",
       "      <td>VVIP</td>\n",
       "    </tr>\n",
       "  </tbody>\n",
       "</table>\n",
       "</div>"
      ],
      "text/plain": [
       "             회원번호 조합원상태 주소-구  주소-동 성별    연령    연령대  총 방문횟수    총구매금액  총구매수량  \\\n",
       "7472    727854528  정상회원   기타    기타  남  42.0    40대       1  1004876   14.0   \n",
       "11844   137449792  정상회원   기타    기타  여  49.0    40대       1   559698   24.2   \n",
       "9219    678182400  정상회원  분당구   수내동  여  33.0  30대이하      12  6355473   52.0   \n",
       "6907   1434481984  정상회원   기타    기타  여  36.0  30대이하       1   518159    8.0   \n",
       "6773    236805184  정상회원  수지구   상현동  여  39.0  30대이하      15  7714229  235.1   \n",
       "10641  1506504064  정상회원   기타    기타  여  40.0    40대       1   513063    8.0   \n",
       "7552    893858880  정상회원  분당구   궁내동  여  38.0  30대이하       1   506535    3.0   \n",
       "11236   336338752  정상회원  분당구   금곡동  여  68.0    60대       2  1007556    5.0   \n",
       "8148   1250095808  정상회원  수지구  풍덕천동  여  49.0    40대       1   484117    5.0   \n",
       "11559   346184832  정상회원  분당구   판교동  여  75.0  70대이상       1   474105   29.0   \n",
       "\n",
       "          1회방문시구매금액    주당방문횟수 배송서비스신청여부 모바일알람여부 VIP_member  \n",
       "7472   1.004876e+06  0.022727       미신청       .       VVIP  \n",
       "11844  5.596982e+05  0.022727       미신청       .       VVIP  \n",
       "9219   5.296227e+05  0.272727       미신청       .       VVIP  \n",
       "6907   5.181592e+05  0.022727       미신청       .       VVIP  \n",
       "6773   5.142819e+05  0.340909       미신청       .       VVIP  \n",
       "10641  5.130631e+05  0.022727       미신청       .       VVIP  \n",
       "7552   5.065349e+05  0.022727       미신청       .       VVIP  \n",
       "11236  5.037782e+05  0.045455       미신청       .       VVIP  \n",
       "8148   4.841171e+05  0.022727       미신청      수신       VVIP  \n",
       "11559  4.741047e+05  0.022727       미신청       .       VVIP  "
      ]
     },
     "execution_count": 191,
     "metadata": {},
     "output_type": "execute_result"
    }
   ],
   "source": [
    "data1.sort_values(by=[\"1회방문시구매금액\",\"연령\"], ascending = False).head(10) \n",
    "#1회방문시구매금액이 높은 순서대로 정리 된 후 연령이 높은 순서대로 정렬"
   ]
  },
  {
   "cell_type": "code",
   "execution_count": 195,
   "metadata": {},
   "outputs": [],
   "source": [
    "data2 =data1.sort_values(by=[\"연령\",\"1회방문시구매금액\"], ascending = [True, False]).head(10)\n",
    "# 연령은 내림차순 구매금액은 오름차순 10명 추출"
   ]
  },
  {
   "cell_type": "code",
   "execution_count": 197,
   "metadata": {},
   "outputs": [],
   "source": [
    "data2.to_csv(\"result2.csv\")"
   ]
  },
  {
   "cell_type": "markdown",
   "metadata": {},
   "source": [
    "**주당 방문횟수가 낮으면서, 총구매금액이 높은 고객 100명의 명단을 추출하여\n",
    "result3.csv 파일 형태로, 김부장 30분까지 송부"
   ]
  },
  {
   "cell_type": "code",
   "execution_count": 2,
   "metadata": {},
   "outputs": [
    {
     "ename": "NameError",
     "evalue": "name 'data1' is not defined",
     "output_type": "error",
     "traceback": [
      "\u001b[1;31m---------------------------------------------------------------------------\u001b[0m",
      "\u001b[1;31mNameError\u001b[0m                                 Traceback (most recent call last)",
      "\u001b[1;32m<ipython-input-2-d608095a39f1>\u001b[0m in \u001b[0;36m<module>\u001b[1;34m\u001b[0m\n\u001b[1;32m----> 1\u001b[1;33m \u001b[0mdata3\u001b[0m\u001b[1;33m=\u001b[0m\u001b[0mdata1\u001b[0m\u001b[1;33m.\u001b[0m\u001b[0msort_values\u001b[0m\u001b[1;33m(\u001b[0m\u001b[0mby\u001b[0m\u001b[1;33m=\u001b[0m\u001b[1;33m[\u001b[0m\u001b[1;34m\"주당방문횟수\"\u001b[0m\u001b[1;33m,\u001b[0m\u001b[1;34m\"총구매금액\"\u001b[0m\u001b[1;33m]\u001b[0m\u001b[1;33m,\u001b[0m \u001b[0mascending\u001b[0m \u001b[1;33m=\u001b[0m \u001b[1;33m[\u001b[0m\u001b[1;32mTrue\u001b[0m\u001b[1;33m,\u001b[0m \u001b[1;32mFalse\u001b[0m\u001b[1;33m]\u001b[0m\u001b[1;33m)\u001b[0m\u001b[1;33m.\u001b[0m\u001b[0mhead\u001b[0m\u001b[1;33m(\u001b[0m\u001b[1;36m100\u001b[0m\u001b[1;33m)\u001b[0m\u001b[1;33m\u001b[0m\u001b[1;33m\u001b[0m\u001b[0m\n\u001b[0m",
      "\u001b[1;31mNameError\u001b[0m: name 'data1' is not defined"
     ]
    }
   ],
   "source": [
    "data3=data1.sort_values(by=[\"주당방문횟수\",\"총구매금액\"], ascending = [True, False]).head(100)"
   ]
  },
  {
   "cell_type": "code",
   "execution_count": 3,
   "metadata": {},
   "outputs": [
    {
     "ename": "NameError",
     "evalue": "name 'data3' is not defined",
     "output_type": "error",
     "traceback": [
      "\u001b[1;31m---------------------------------------------------------------------------\u001b[0m",
      "\u001b[1;31mNameError\u001b[0m                                 Traceback (most recent call last)",
      "\u001b[1;32m<ipython-input-3-20f75ddd24ef>\u001b[0m in \u001b[0;36m<module>\u001b[1;34m\u001b[0m\n\u001b[1;32m----> 1\u001b[1;33m \u001b[0mdata3\u001b[0m\u001b[1;33m.\u001b[0m\u001b[0mto_csv\u001b[0m\u001b[1;33m(\u001b[0m\u001b[1;34m\"reult3.csv\"\u001b[0m\u001b[1;33m,\u001b[0m \u001b[0mencoding\u001b[0m\u001b[1;33m=\u001b[0m\u001b[1;34m\"cp949\"\u001b[0m\u001b[1;33m)\u001b[0m \u001b[1;31m# encoding 은 values 값이 깨지는 것을 막아줌\u001b[0m\u001b[1;33m\u001b[0m\u001b[1;33m\u001b[0m\u001b[0m\n\u001b[0m",
      "\u001b[1;31mNameError\u001b[0m: name 'data3' is not defined"
     ]
    }
   ],
   "source": [
    "data3.to_csv(\"reult3.csv\", encoding=\"cp949\") # encoding 은 values 값이 깨지는 것을 막아줌"
   ]
  },
  {
   "cell_type": "markdown",
   "metadata": {},
   "source": [
    "### indexing, Filtering"
   ]
  },
  {
   "cell_type": "code",
   "execution_count": 205,
   "metadata": {},
   "outputs": [
    {
     "data": {
      "text/html": [
       "<div>\n",
       "<style scoped>\n",
       "    .dataframe tbody tr th:only-of-type {\n",
       "        vertical-align: middle;\n",
       "    }\n",
       "\n",
       "    .dataframe tbody tr th {\n",
       "        vertical-align: top;\n",
       "    }\n",
       "\n",
       "    .dataframe thead th {\n",
       "        text-align: right;\n",
       "    }\n",
       "</style>\n",
       "<table border=\"1\" class=\"dataframe\">\n",
       "  <thead>\n",
       "    <tr style=\"text-align: right;\">\n",
       "      <th></th>\n",
       "      <th>성별</th>\n",
       "      <th>연령</th>\n",
       "      <th>총구매금액</th>\n",
       "      <th>총 방문횟수</th>\n",
       "      <th>회원번호</th>\n",
       "    </tr>\n",
       "  </thead>\n",
       "  <tbody>\n",
       "    <tr>\n",
       "      <td>0</td>\n",
       "      <td>여</td>\n",
       "      <td>45.0</td>\n",
       "      <td>5733884</td>\n",
       "      <td>120</td>\n",
       "      <td>272369856</td>\n",
       "    </tr>\n",
       "    <tr>\n",
       "      <td>1</td>\n",
       "      <td>여</td>\n",
       "      <td>36.0</td>\n",
       "      <td>673414</td>\n",
       "      <td>19</td>\n",
       "      <td>1506656256</td>\n",
       "    </tr>\n",
       "    <tr>\n",
       "      <td>2</td>\n",
       "      <td>여</td>\n",
       "      <td>36.0</td>\n",
       "      <td>2500746</td>\n",
       "      <td>92</td>\n",
       "      <td>1023108864</td>\n",
       "    </tr>\n",
       "    <tr>\n",
       "      <td>3</td>\n",
       "      <td>여</td>\n",
       "      <td>34.0</td>\n",
       "      <td>655919</td>\n",
       "      <td>14</td>\n",
       "      <td>1476143616</td>\n",
       "    </tr>\n",
       "    <tr>\n",
       "      <td>4</td>\n",
       "      <td>여</td>\n",
       "      <td>51.0</td>\n",
       "      <td>2984534</td>\n",
       "      <td>62</td>\n",
       "      <td>716128320</td>\n",
       "    </tr>\n",
       "    <tr>\n",
       "      <td>...</td>\n",
       "      <td>...</td>\n",
       "      <td>...</td>\n",
       "      <td>...</td>\n",
       "      <td>...</td>\n",
       "      <td>...</td>\n",
       "    </tr>\n",
       "    <tr>\n",
       "      <td>13034</td>\n",
       "      <td>여</td>\n",
       "      <td>46.0</td>\n",
       "      <td>61740</td>\n",
       "      <td>1</td>\n",
       "      <td>963408768</td>\n",
       "    </tr>\n",
       "    <tr>\n",
       "      <td>13035</td>\n",
       "      <td>여</td>\n",
       "      <td>82.0</td>\n",
       "      <td>15507</td>\n",
       "      <td>1</td>\n",
       "      <td>309812800</td>\n",
       "    </tr>\n",
       "    <tr>\n",
       "      <td>13036</td>\n",
       "      <td>여</td>\n",
       "      <td>55.0</td>\n",
       "      <td>36374</td>\n",
       "      <td>1</td>\n",
       "      <td>96714304</td>\n",
       "    </tr>\n",
       "    <tr>\n",
       "      <td>13037</td>\n",
       "      <td>남</td>\n",
       "      <td>41.0</td>\n",
       "      <td>15890</td>\n",
       "      <td>1</td>\n",
       "      <td>1547170880</td>\n",
       "    </tr>\n",
       "    <tr>\n",
       "      <td>13038</td>\n",
       "      <td>여</td>\n",
       "      <td>69.0</td>\n",
       "      <td>7466</td>\n",
       "      <td>1</td>\n",
       "      <td>435603200</td>\n",
       "    </tr>\n",
       "  </tbody>\n",
       "</table>\n",
       "<p>13039 rows × 5 columns</p>\n",
       "</div>"
      ],
      "text/plain": [
       "      성별    연령    총구매금액  총 방문횟수        회원번호\n",
       "0      여  45.0  5733884     120   272369856\n",
       "1      여  36.0   673414      19  1506656256\n",
       "2      여  36.0  2500746      92  1023108864\n",
       "3      여  34.0   655919      14  1476143616\n",
       "4      여  51.0  2984534      62   716128320\n",
       "...   ..   ...      ...     ...         ...\n",
       "13034  여  46.0    61740       1   963408768\n",
       "13035  여  82.0    15507       1   309812800\n",
       "13036  여  55.0    36374       1    96714304\n",
       "13037  남  41.0    15890       1  1547170880\n",
       "13038  여  69.0     7466       1   435603200\n",
       "\n",
       "[13039 rows x 5 columns]"
      ]
     },
     "execution_count": 205,
     "metadata": {},
     "output_type": "execute_result"
    }
   ],
   "source": [
    "data1[[\"성별\",\"연령\",\"총구매금액\",\"총 방문횟수\", \"회원번호\"]] # column에 대한 indexing"
   ]
  },
  {
   "cell_type": "code",
   "execution_count": 208,
   "metadata": {},
   "outputs": [],
   "source": [
    "cond1 = (data1[\"성별\"]==\"여\") # 여성만 출력하고싶다.\n",
    "data4=data1.loc[cond1] #location 함수"
   ]
  },
  {
   "cell_type": "code",
   "execution_count": 210,
   "metadata": {
    "collapsed": true
   },
   "outputs": [
    {
     "data": {
      "text/html": [
       "<div>\n",
       "<style scoped>\n",
       "    .dataframe tbody tr th:only-of-type {\n",
       "        vertical-align: middle;\n",
       "    }\n",
       "\n",
       "    .dataframe tbody tr th {\n",
       "        vertical-align: top;\n",
       "    }\n",
       "\n",
       "    .dataframe thead th {\n",
       "        text-align: right;\n",
       "    }\n",
       "</style>\n",
       "<table border=\"1\" class=\"dataframe\">\n",
       "  <thead>\n",
       "    <tr style=\"text-align: right;\">\n",
       "      <th></th>\n",
       "      <th>회원번호</th>\n",
       "      <th>조합원상태</th>\n",
       "      <th>주소-구</th>\n",
       "      <th>주소-동</th>\n",
       "      <th>성별</th>\n",
       "      <th>연령</th>\n",
       "      <th>연령대</th>\n",
       "      <th>총 방문횟수</th>\n",
       "      <th>총구매금액</th>\n",
       "      <th>총구매수량</th>\n",
       "      <th>1회방문시구매금액</th>\n",
       "      <th>주당방문횟수</th>\n",
       "      <th>배송서비스신청여부</th>\n",
       "      <th>모바일알람여부</th>\n",
       "      <th>VIP_member</th>\n",
       "    </tr>\n",
       "  </thead>\n",
       "  <tbody>\n",
       "    <tr>\n",
       "      <td>0</td>\n",
       "      <td>272369856</td>\n",
       "      <td>정상회원</td>\n",
       "      <td>수지구</td>\n",
       "      <td>풍덕천동</td>\n",
       "      <td>여</td>\n",
       "      <td>45.0</td>\n",
       "      <td>40대</td>\n",
       "      <td>120</td>\n",
       "      <td>5733884</td>\n",
       "      <td>546.5</td>\n",
       "      <td>47782.363926</td>\n",
       "      <td>2.727273</td>\n",
       "      <td>미신청</td>\n",
       "      <td>수신</td>\n",
       "      <td>normal</td>\n",
       "    </tr>\n",
       "    <tr>\n",
       "      <td>2</td>\n",
       "      <td>1023108864</td>\n",
       "      <td>정상회원</td>\n",
       "      <td>수지구</td>\n",
       "      <td>풍덕천동</td>\n",
       "      <td>여</td>\n",
       "      <td>36.0</td>\n",
       "      <td>30대이하</td>\n",
       "      <td>92</td>\n",
       "      <td>2500746</td>\n",
       "      <td>308.0</td>\n",
       "      <td>27182.021152</td>\n",
       "      <td>2.090909</td>\n",
       "      <td>미신청</td>\n",
       "      <td>수신</td>\n",
       "      <td>normal</td>\n",
       "    </tr>\n",
       "    <tr>\n",
       "      <td>4</td>\n",
       "      <td>716128320</td>\n",
       "      <td>정상회원</td>\n",
       "      <td>수지구</td>\n",
       "      <td>풍덕천동</td>\n",
       "      <td>여</td>\n",
       "      <td>51.0</td>\n",
       "      <td>50대</td>\n",
       "      <td>62</td>\n",
       "      <td>2984534</td>\n",
       "      <td>252.1</td>\n",
       "      <td>48137.641674</td>\n",
       "      <td>1.409091</td>\n",
       "      <td>미신청</td>\n",
       "      <td>.</td>\n",
       "      <td>normal</td>\n",
       "    </tr>\n",
       "    <tr>\n",
       "      <td>6</td>\n",
       "      <td>1177875136</td>\n",
       "      <td>정상회원</td>\n",
       "      <td>수지구</td>\n",
       "      <td>풍덕천동</td>\n",
       "      <td>여</td>\n",
       "      <td>34.0</td>\n",
       "      <td>30대이하</td>\n",
       "      <td>54</td>\n",
       "      <td>1638800</td>\n",
       "      <td>218.1</td>\n",
       "      <td>30348.148148</td>\n",
       "      <td>1.227273</td>\n",
       "      <td>미신청</td>\n",
       "      <td>.</td>\n",
       "      <td>normal</td>\n",
       "    </tr>\n",
       "    <tr>\n",
       "      <td>7</td>\n",
       "      <td>176912064</td>\n",
       "      <td>정상회원</td>\n",
       "      <td>수지구</td>\n",
       "      <td>풍덕천동</td>\n",
       "      <td>여</td>\n",
       "      <td>69.0</td>\n",
       "      <td>60대</td>\n",
       "      <td>128</td>\n",
       "      <td>8028076</td>\n",
       "      <td>716.0</td>\n",
       "      <td>62719.342096</td>\n",
       "      <td>2.909091</td>\n",
       "      <td>미신청</td>\n",
       "      <td>.</td>\n",
       "      <td>normal</td>\n",
       "    </tr>\n",
       "    <tr>\n",
       "      <td>...</td>\n",
       "      <td>...</td>\n",
       "      <td>...</td>\n",
       "      <td>...</td>\n",
       "      <td>...</td>\n",
       "      <td>...</td>\n",
       "      <td>...</td>\n",
       "      <td>...</td>\n",
       "      <td>...</td>\n",
       "      <td>...</td>\n",
       "      <td>...</td>\n",
       "      <td>...</td>\n",
       "      <td>...</td>\n",
       "      <td>...</td>\n",
       "      <td>...</td>\n",
       "      <td>...</td>\n",
       "    </tr>\n",
       "    <tr>\n",
       "      <td>11874</td>\n",
       "      <td>1620061568</td>\n",
       "      <td>정상회원</td>\n",
       "      <td>수지구</td>\n",
       "      <td>신봉동</td>\n",
       "      <td>여</td>\n",
       "      <td>73.0</td>\n",
       "      <td>70대이상</td>\n",
       "      <td>42</td>\n",
       "      <td>3010110</td>\n",
       "      <td>257.4</td>\n",
       "      <td>71669.294294</td>\n",
       "      <td>0.954545</td>\n",
       "      <td>신청</td>\n",
       "      <td>.</td>\n",
       "      <td>normal</td>\n",
       "    </tr>\n",
       "    <tr>\n",
       "      <td>11932</td>\n",
       "      <td>1622066048</td>\n",
       "      <td>정상회원</td>\n",
       "      <td>수지구</td>\n",
       "      <td>풍덕천동</td>\n",
       "      <td>여</td>\n",
       "      <td>40.0</td>\n",
       "      <td>40대</td>\n",
       "      <td>23</td>\n",
       "      <td>553208</td>\n",
       "      <td>58.0</td>\n",
       "      <td>24052.536232</td>\n",
       "      <td>0.522727</td>\n",
       "      <td>미신청</td>\n",
       "      <td>.</td>\n",
       "      <td>normal</td>\n",
       "    </tr>\n",
       "    <tr>\n",
       "      <td>11985</td>\n",
       "      <td>283036288</td>\n",
       "      <td>정상회원</td>\n",
       "      <td>기타</td>\n",
       "      <td>기타</td>\n",
       "      <td>여</td>\n",
       "      <td>50.0</td>\n",
       "      <td>50대</td>\n",
       "      <td>26</td>\n",
       "      <td>1538837</td>\n",
       "      <td>160.0</td>\n",
       "      <td>59186.036036</td>\n",
       "      <td>0.590909</td>\n",
       "      <td>미신청</td>\n",
       "      <td>.</td>\n",
       "      <td>normal</td>\n",
       "    </tr>\n",
       "    <tr>\n",
       "      <td>11994</td>\n",
       "      <td>1622565312</td>\n",
       "      <td>정상회원</td>\n",
       "      <td>수지구</td>\n",
       "      <td>풍덕천동</td>\n",
       "      <td>여</td>\n",
       "      <td>43.0</td>\n",
       "      <td>40대</td>\n",
       "      <td>30</td>\n",
       "      <td>975478</td>\n",
       "      <td>109.1</td>\n",
       "      <td>32515.945946</td>\n",
       "      <td>0.681818</td>\n",
       "      <td>미신청</td>\n",
       "      <td>.</td>\n",
       "      <td>normal</td>\n",
       "    </tr>\n",
       "    <tr>\n",
       "      <td>12270</td>\n",
       "      <td>765330880</td>\n",
       "      <td>정상회원</td>\n",
       "      <td>수지구</td>\n",
       "      <td>동천동</td>\n",
       "      <td>여</td>\n",
       "      <td>59.0</td>\n",
       "      <td>50대</td>\n",
       "      <td>20</td>\n",
       "      <td>3083260</td>\n",
       "      <td>328.0</td>\n",
       "      <td>154163.006760</td>\n",
       "      <td>0.454545</td>\n",
       "      <td>신청</td>\n",
       "      <td>.</td>\n",
       "      <td>VVIP</td>\n",
       "    </tr>\n",
       "  </tbody>\n",
       "</table>\n",
       "<p>3429 rows × 15 columns</p>\n",
       "</div>"
      ],
      "text/plain": [
       "             회원번호 조합원상태 주소-구  주소-동 성별    연령    연령대  총 방문횟수    총구매금액  총구매수량  \\\n",
       "0       272369856  정상회원  수지구  풍덕천동  여  45.0    40대     120  5733884  546.5   \n",
       "2      1023108864  정상회원  수지구  풍덕천동  여  36.0  30대이하      92  2500746  308.0   \n",
       "4       716128320  정상회원  수지구  풍덕천동  여  51.0    50대      62  2984534  252.1   \n",
       "6      1177875136  정상회원  수지구  풍덕천동  여  34.0  30대이하      54  1638800  218.1   \n",
       "7       176912064  정상회원  수지구  풍덕천동  여  69.0    60대     128  8028076  716.0   \n",
       "...           ...   ...  ...   ... ..   ...    ...     ...      ...    ...   \n",
       "11874  1620061568  정상회원  수지구   신봉동  여  73.0  70대이상      42  3010110  257.4   \n",
       "11932  1622066048  정상회원  수지구  풍덕천동  여  40.0    40대      23   553208   58.0   \n",
       "11985   283036288  정상회원   기타    기타  여  50.0    50대      26  1538837  160.0   \n",
       "11994  1622565312  정상회원  수지구  풍덕천동  여  43.0    40대      30   975478  109.1   \n",
       "12270   765330880  정상회원  수지구   동천동  여  59.0    50대      20  3083260  328.0   \n",
       "\n",
       "           1회방문시구매금액    주당방문횟수 배송서비스신청여부 모바일알람여부 VIP_member  \n",
       "0       47782.363926  2.727273       미신청      수신     normal  \n",
       "2       27182.021152  2.090909       미신청      수신     normal  \n",
       "4       48137.641674  1.409091       미신청       .     normal  \n",
       "6       30348.148148  1.227273       미신청       .     normal  \n",
       "7       62719.342096  2.909091       미신청       .     normal  \n",
       "...              ...       ...       ...     ...        ...  \n",
       "11874   71669.294294  0.954545        신청       .     normal  \n",
       "11932   24052.536232  0.522727       미신청       .     normal  \n",
       "11985   59186.036036  0.590909       미신청       .     normal  \n",
       "11994   32515.945946  0.681818       미신청       .     normal  \n",
       "12270  154163.006760  0.454545        신청       .       VVIP  \n",
       "\n",
       "[3429 rows x 15 columns]"
      ]
     },
     "execution_count": 210,
     "metadata": {},
     "output_type": "execute_result"
    }
   ],
   "source": [
    "cond2 = (data1[\"총 방문횟수\"]>=20) # 총 방문횟수가 20회 이상인 사람들만 출력\n",
    "data1.loc[cond2]"
   ]
  },
  {
   "cell_type": "markdown",
   "metadata": {},
   "source": [
    "** 수지구 거주민 중 총 방문횟수가 100회 이상인 사람 추출 result4.csv\n",
    "(성별/연령/총구매금액/총 방문횟수/ 회원번호)**\n",
    "\n",
    "김부장에게 카톡으로 송부"
   ]
  },
  {
   "cell_type": "code",
   "execution_count": 4,
   "metadata": {},
   "outputs": [
    {
     "ename": "NameError",
     "evalue": "name 'data1' is not defined",
     "output_type": "error",
     "traceback": [
      "\u001b[1;31m---------------------------------------------------------------------------\u001b[0m",
      "\u001b[1;31mNameError\u001b[0m                                 Traceback (most recent call last)",
      "\u001b[1;32m<ipython-input-4-e42dc25827de>\u001b[0m in \u001b[0;36m<module>\u001b[1;34m\u001b[0m\n\u001b[1;32m----> 1\u001b[1;33m \u001b[0mcond3\u001b[0m \u001b[1;33m=\u001b[0m \u001b[1;33m(\u001b[0m\u001b[0mdata1\u001b[0m\u001b[1;33m[\u001b[0m\u001b[1;34m\"주소-구\"\u001b[0m\u001b[1;33m]\u001b[0m\u001b[1;33m==\u001b[0m\u001b[1;34m\"수지구\"\u001b[0m\u001b[1;33m)\u001b[0m\u001b[1;33m\u001b[0m\u001b[1;33m\u001b[0m\u001b[0m\n\u001b[0m\u001b[0;32m      2\u001b[0m \u001b[0mcond4\u001b[0m \u001b[1;33m=\u001b[0m \u001b[1;33m(\u001b[0m\u001b[0mdata1\u001b[0m\u001b[1;33m[\u001b[0m\u001b[1;34m\"총 방문횟수\"\u001b[0m\u001b[1;33m]\u001b[0m\u001b[1;33m>=\u001b[0m\u001b[1;36m100\u001b[0m\u001b[1;33m)\u001b[0m\u001b[1;33m\u001b[0m\u001b[1;33m\u001b[0m\u001b[0m\n\u001b[0;32m      3\u001b[0m \u001b[0mdata5\u001b[0m \u001b[1;33m=\u001b[0m \u001b[0mdata1\u001b[0m\u001b[1;33m.\u001b[0m\u001b[0mloc\u001b[0m\u001b[1;33m[\u001b[0m\u001b[0mcond3\u001b[0m \u001b[1;33m&\u001b[0m \u001b[0mcond4\u001b[0m\u001b[1;33m]\u001b[0m \u001b[1;31m# &는 and 엔터위에 시프트 누루고 |은 or\u001b[0m\u001b[1;33m\u001b[0m\u001b[1;33m\u001b[0m\u001b[0m\n\u001b[0;32m      4\u001b[0m \u001b[0mdata5\u001b[0m\u001b[1;33m[\u001b[0m\u001b[1;33m[\u001b[0m\u001b[1;34m\"성별\"\u001b[0m\u001b[1;33m,\u001b[0m\u001b[1;34m\"연령\"\u001b[0m\u001b[1;33m,\u001b[0m\u001b[1;34m\"총구매금액\"\u001b[0m\u001b[1;33m,\u001b[0m\u001b[1;34m\"총 방문횟수\"\u001b[0m\u001b[1;33m,\u001b[0m\u001b[1;34m\"회원번호\"\u001b[0m\u001b[1;33m]\u001b[0m\u001b[1;33m]\u001b[0m\u001b[1;33m.\u001b[0m\u001b[0mto_csv\u001b[0m\u001b[1;33m(\u001b[0m\u001b[1;34m\"result4.csv\"\u001b[0m\u001b[1;33m,\u001b[0m \u001b[0mencoding\u001b[0m\u001b[1;33m=\u001b[0m\u001b[1;34m\"cp949\"\u001b[0m\u001b[1;33m)\u001b[0m\u001b[1;33m\u001b[0m\u001b[1;33m\u001b[0m\u001b[0m\n",
      "\u001b[1;31mNameError\u001b[0m: name 'data1' is not defined"
     ]
    }
   ],
   "source": [
    "cond3 = (data1[\"주소-구\"]==\"수지구\")\n",
    "cond4 = (data1[\"총 방문횟수\"]>=100)\n",
    "data5 = data1.loc[cond3 & cond4] # &는 and 엔터위에 시프트 누루고 |은 or\n",
    "data5[[\"성별\",\"연령\",\"총구매금액\",\"총 방문횟수\",\"회원번호\"]].to_csv(\"result4.csv\", encoding=\"cp949\")"
   ]
  },
  {
   "cell_type": "code",
   "execution_count": 5,
   "metadata": {},
   "outputs": [
    {
     "ename": "NameError",
     "evalue": "name 'data1' is not defined",
     "output_type": "error",
     "traceback": [
      "\u001b[1;31m---------------------------------------------------------------------------\u001b[0m",
      "\u001b[1;31mNameError\u001b[0m                                 Traceback (most recent call last)",
      "\u001b[1;32m<ipython-input-5-bf6f9169af51>\u001b[0m in \u001b[0;36m<module>\u001b[1;34m\u001b[0m\n\u001b[1;32m----> 1\u001b[1;33m \u001b[0mdata1\u001b[0m\u001b[1;33m[\u001b[0m\u001b[1;34m\"column\"\u001b[0m\u001b[1;33m]\u001b[0m\u001b[1;33m=\u001b[0m\u001b[0mdata1\u001b[0m\u001b[1;33m[\u001b[0m\u001b[1;34m\"총구매금액\"\u001b[0m\u001b[1;33m]\u001b[0m\u001b[1;33m/\u001b[0m\u001b[0mdata1\u001b[0m\u001b[1;33m[\u001b[0m\u001b[1;34m\"총 방문횟수\"\u001b[0m\u001b[1;33m]\u001b[0m \u001b[1;31m# column 끼리 나누고 분류하고 할 수 있음\u001b[0m\u001b[1;33m\u001b[0m\u001b[1;33m\u001b[0m\u001b[0m\n\u001b[0m",
      "\u001b[1;31mNameError\u001b[0m: name 'data1' is not defined"
     ]
    }
   ],
   "source": [
    "data1[\"column\"]=data1[\"총구매금액\"]/data1[\"총 방문횟수\"] # column 끼리 나누고 분류하고 할 수 있음"
   ]
  },
  {
   "cell_type": "code",
   "execution_count": 224,
   "metadata": {},
   "outputs": [
    {
     "data": {
      "text/html": [
       "<div>\n",
       "<style scoped>\n",
       "    .dataframe tbody tr th:only-of-type {\n",
       "        vertical-align: middle;\n",
       "    }\n",
       "\n",
       "    .dataframe tbody tr th {\n",
       "        vertical-align: top;\n",
       "    }\n",
       "\n",
       "    .dataframe thead th {\n",
       "        text-align: right;\n",
       "    }\n",
       "</style>\n",
       "<table border=\"1\" class=\"dataframe\">\n",
       "  <thead>\n",
       "    <tr style=\"text-align: right;\">\n",
       "      <th></th>\n",
       "      <th>회원번호</th>\n",
       "      <th>조합원상태</th>\n",
       "      <th>주소-구</th>\n",
       "      <th>주소-동</th>\n",
       "      <th>성별</th>\n",
       "      <th>연령</th>\n",
       "      <th>연령대</th>\n",
       "      <th>총 방문횟수</th>\n",
       "      <th>총구매금액</th>\n",
       "      <th>총구매수량</th>\n",
       "      <th>1회방문시구매금액</th>\n",
       "      <th>주당방문횟수</th>\n",
       "      <th>배송서비스신청여부</th>\n",
       "      <th>모바일알람여부</th>\n",
       "      <th>VIP_member</th>\n",
       "      <th>column</th>\n",
       "    </tr>\n",
       "  </thead>\n",
       "  <tbody>\n",
       "    <tr>\n",
       "      <td>0</td>\n",
       "      <td>272369856</td>\n",
       "      <td>정상회원</td>\n",
       "      <td>수지구</td>\n",
       "      <td>풍덕천동</td>\n",
       "      <td>여</td>\n",
       "      <td>45.0</td>\n",
       "      <td>40대</td>\n",
       "      <td>120</td>\n",
       "      <td>5733884</td>\n",
       "      <td>546.5</td>\n",
       "      <td>47782.363926</td>\n",
       "      <td>2.727273</td>\n",
       "      <td>미신청</td>\n",
       "      <td>수신</td>\n",
       "      <td>normal</td>\n",
       "      <td>47782.366667</td>\n",
       "    </tr>\n",
       "    <tr>\n",
       "      <td>1</td>\n",
       "      <td>1506656256</td>\n",
       "      <td>정상회원</td>\n",
       "      <td>수지구</td>\n",
       "      <td>풍덕천동</td>\n",
       "      <td>여</td>\n",
       "      <td>36.0</td>\n",
       "      <td>30대이하</td>\n",
       "      <td>19</td>\n",
       "      <td>673414</td>\n",
       "      <td>90.0</td>\n",
       "      <td>35442.863917</td>\n",
       "      <td>0.431818</td>\n",
       "      <td>미신청</td>\n",
       "      <td>.</td>\n",
       "      <td>normal</td>\n",
       "      <td>35442.842105</td>\n",
       "    </tr>\n",
       "    <tr>\n",
       "      <td>2</td>\n",
       "      <td>1023108864</td>\n",
       "      <td>정상회원</td>\n",
       "      <td>수지구</td>\n",
       "      <td>풍덕천동</td>\n",
       "      <td>여</td>\n",
       "      <td>36.0</td>\n",
       "      <td>30대이하</td>\n",
       "      <td>92</td>\n",
       "      <td>2500746</td>\n",
       "      <td>308.0</td>\n",
       "      <td>27182.021152</td>\n",
       "      <td>2.090909</td>\n",
       "      <td>미신청</td>\n",
       "      <td>수신</td>\n",
       "      <td>normal</td>\n",
       "      <td>27182.021739</td>\n",
       "    </tr>\n",
       "    <tr>\n",
       "      <td>3</td>\n",
       "      <td>1476143616</td>\n",
       "      <td>정상회원</td>\n",
       "      <td>수지구</td>\n",
       "      <td>풍덕천동</td>\n",
       "      <td>여</td>\n",
       "      <td>34.0</td>\n",
       "      <td>30대이하</td>\n",
       "      <td>14</td>\n",
       "      <td>655919</td>\n",
       "      <td>66.0</td>\n",
       "      <td>46851.327220</td>\n",
       "      <td>0.318182</td>\n",
       "      <td>미신청</td>\n",
       "      <td>.</td>\n",
       "      <td>normal</td>\n",
       "      <td>46851.357143</td>\n",
       "    </tr>\n",
       "    <tr>\n",
       "      <td>4</td>\n",
       "      <td>716128320</td>\n",
       "      <td>정상회원</td>\n",
       "      <td>수지구</td>\n",
       "      <td>풍덕천동</td>\n",
       "      <td>여</td>\n",
       "      <td>51.0</td>\n",
       "      <td>50대</td>\n",
       "      <td>62</td>\n",
       "      <td>2984534</td>\n",
       "      <td>252.1</td>\n",
       "      <td>48137.641674</td>\n",
       "      <td>1.409091</td>\n",
       "      <td>미신청</td>\n",
       "      <td>.</td>\n",
       "      <td>normal</td>\n",
       "      <td>48137.645161</td>\n",
       "    </tr>\n",
       "    <tr>\n",
       "      <td>...</td>\n",
       "      <td>...</td>\n",
       "      <td>...</td>\n",
       "      <td>...</td>\n",
       "      <td>...</td>\n",
       "      <td>...</td>\n",
       "      <td>...</td>\n",
       "      <td>...</td>\n",
       "      <td>...</td>\n",
       "      <td>...</td>\n",
       "      <td>...</td>\n",
       "      <td>...</td>\n",
       "      <td>...</td>\n",
       "      <td>...</td>\n",
       "      <td>...</td>\n",
       "      <td>...</td>\n",
       "      <td>...</td>\n",
       "    </tr>\n",
       "    <tr>\n",
       "      <td>13034</td>\n",
       "      <td>963408768</td>\n",
       "      <td>정상회원</td>\n",
       "      <td>분당구</td>\n",
       "      <td>백현동</td>\n",
       "      <td>여</td>\n",
       "      <td>46.0</td>\n",
       "      <td>40대</td>\n",
       "      <td>1</td>\n",
       "      <td>61740</td>\n",
       "      <td>9.0</td>\n",
       "      <td>61739.864865</td>\n",
       "      <td>0.022727</td>\n",
       "      <td>미신청</td>\n",
       "      <td>.</td>\n",
       "      <td>normal</td>\n",
       "      <td>61740.000000</td>\n",
       "    </tr>\n",
       "    <tr>\n",
       "      <td>13035</td>\n",
       "      <td>309812800</td>\n",
       "      <td>정상회원</td>\n",
       "      <td>기타</td>\n",
       "      <td>기타</td>\n",
       "      <td>여</td>\n",
       "      <td>82.0</td>\n",
       "      <td>70대이상</td>\n",
       "      <td>1</td>\n",
       "      <td>15507</td>\n",
       "      <td>2.0</td>\n",
       "      <td>15506.756757</td>\n",
       "      <td>0.022727</td>\n",
       "      <td>미신청</td>\n",
       "      <td>.</td>\n",
       "      <td>normal</td>\n",
       "      <td>15507.000000</td>\n",
       "    </tr>\n",
       "    <tr>\n",
       "      <td>13036</td>\n",
       "      <td>96714304</td>\n",
       "      <td>정상회원</td>\n",
       "      <td>분당구</td>\n",
       "      <td>백현동</td>\n",
       "      <td>여</td>\n",
       "      <td>55.0</td>\n",
       "      <td>50대</td>\n",
       "      <td>1</td>\n",
       "      <td>36374</td>\n",
       "      <td>2.0</td>\n",
       "      <td>36373.873874</td>\n",
       "      <td>0.022727</td>\n",
       "      <td>미신청</td>\n",
       "      <td>.</td>\n",
       "      <td>normal</td>\n",
       "      <td>36374.000000</td>\n",
       "    </tr>\n",
       "    <tr>\n",
       "      <td>13037</td>\n",
       "      <td>1547170880</td>\n",
       "      <td>정상회원</td>\n",
       "      <td>기타</td>\n",
       "      <td>기타</td>\n",
       "      <td>남</td>\n",
       "      <td>41.0</td>\n",
       "      <td>40대</td>\n",
       "      <td>1</td>\n",
       "      <td>15890</td>\n",
       "      <td>1.0</td>\n",
       "      <td>15889.639640</td>\n",
       "      <td>0.022727</td>\n",
       "      <td>미신청</td>\n",
       "      <td>.</td>\n",
       "      <td>normal</td>\n",
       "      <td>15890.000000</td>\n",
       "    </tr>\n",
       "    <tr>\n",
       "      <td>13038</td>\n",
       "      <td>435603200</td>\n",
       "      <td>정상회원</td>\n",
       "      <td>기타</td>\n",
       "      <td>기타</td>\n",
       "      <td>여</td>\n",
       "      <td>69.0</td>\n",
       "      <td>60대</td>\n",
       "      <td>1</td>\n",
       "      <td>7466</td>\n",
       "      <td>2.0</td>\n",
       "      <td>7466.216216</td>\n",
       "      <td>0.022727</td>\n",
       "      <td>미신청</td>\n",
       "      <td>.</td>\n",
       "      <td>normal</td>\n",
       "      <td>7466.000000</td>\n",
       "    </tr>\n",
       "  </tbody>\n",
       "</table>\n",
       "<p>13039 rows × 16 columns</p>\n",
       "</div>"
      ],
      "text/plain": [
       "             회원번호 조합원상태 주소-구  주소-동 성별    연령    연령대  총 방문횟수    총구매금액  총구매수량  \\\n",
       "0       272369856  정상회원  수지구  풍덕천동  여  45.0    40대     120  5733884  546.5   \n",
       "1      1506656256  정상회원  수지구  풍덕천동  여  36.0  30대이하      19   673414   90.0   \n",
       "2      1023108864  정상회원  수지구  풍덕천동  여  36.0  30대이하      92  2500746  308.0   \n",
       "3      1476143616  정상회원  수지구  풍덕천동  여  34.0  30대이하      14   655919   66.0   \n",
       "4       716128320  정상회원  수지구  풍덕천동  여  51.0    50대      62  2984534  252.1   \n",
       "...           ...   ...  ...   ... ..   ...    ...     ...      ...    ...   \n",
       "13034   963408768  정상회원  분당구   백현동  여  46.0    40대       1    61740    9.0   \n",
       "13035   309812800  정상회원   기타    기타  여  82.0  70대이상       1    15507    2.0   \n",
       "13036    96714304  정상회원  분당구   백현동  여  55.0    50대       1    36374    2.0   \n",
       "13037  1547170880  정상회원   기타    기타  남  41.0    40대       1    15890    1.0   \n",
       "13038   435603200  정상회원   기타    기타  여  69.0    60대       1     7466    2.0   \n",
       "\n",
       "          1회방문시구매금액    주당방문횟수 배송서비스신청여부 모바일알람여부 VIP_member        column  \n",
       "0      47782.363926  2.727273       미신청      수신     normal  47782.366667  \n",
       "1      35442.863917  0.431818       미신청       .     normal  35442.842105  \n",
       "2      27182.021152  2.090909       미신청      수신     normal  27182.021739  \n",
       "3      46851.327220  0.318182       미신청       .     normal  46851.357143  \n",
       "4      48137.641674  1.409091       미신청       .     normal  48137.645161  \n",
       "...             ...       ...       ...     ...        ...           ...  \n",
       "13034  61739.864865  0.022727       미신청       .     normal  61740.000000  \n",
       "13035  15506.756757  0.022727       미신청       .     normal  15507.000000  \n",
       "13036  36373.873874  0.022727       미신청       .     normal  36374.000000  \n",
       "13037  15889.639640  0.022727       미신청       .     normal  15890.000000  \n",
       "13038   7466.216216  0.022727       미신청       .     normal   7466.000000  \n",
       "\n",
       "[13039 rows x 16 columns]"
      ]
     },
     "execution_count": 224,
     "metadata": {},
     "output_type": "execute_result"
    }
   ],
   "source": [
    "data1"
   ]
  }
 ],
 "metadata": {
  "kernelspec": {
   "display_name": "Python 3",
   "language": "python",
   "name": "python3"
  },
  "language_info": {
   "codemirror_mode": {
    "name": "ipython",
    "version": 3
   },
   "file_extension": ".py",
   "mimetype": "text/x-python",
   "name": "python",
   "nbconvert_exporter": "python",
   "pygments_lexer": "ipython3",
   "version": "3.7.4"
  }
 },
 "nbformat": 4,
 "nbformat_minor": 2
}
